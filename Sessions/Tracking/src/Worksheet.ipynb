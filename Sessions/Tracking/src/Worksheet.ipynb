{
 "cells": [
  {
   "cell_type": "markdown",
   "metadata": {},
   "source": [
    "# Object tracking in Python\n",
    "**Discuss the outline of the session and how this notebook will work**\n",
    "- **Talk about how the general structure for an example tracking workflow has been prepared, but the various functions have gaps that will need to be filled in**\n",
    "- **Mention that the Notebook is broken down into sections.  Each one starts with a bit of background information and a list of what we will achieve at the end of it**"
   ]
  },
  {
   "cell_type": "markdown",
   "metadata": {},
   "source": [
    "## Getting started\n",
    "### Background\n",
    "Before we start, we need to make sure this Jupyter Notebook has access to all the functions we're going to use later on.  Many of these will already be included with your Python build; however, a few may be missing.  To deal with this, we first run Pip to download these libraries.  After this, we can do a standard Python import.\n",
    "\n",
    "**Discuss what each import is used for**\n",
    "\n",
    "### Aim\n",
    "- Install missing Python libraries\n",
    "- Import any functions we will use later on"
   ]
  },
  {
   "cell_type": "code",
   "execution_count": null,
   "metadata": {},
   "outputs": [],
   "source": [
    "# Running pip against all the libraries we will need.  If these aren't already present, they will be downloaded.\n",
    "# !pip install --user matplotlib\n",
    "# !pip install --user pandas\n",
    "# !pip install --user Pillow\n",
    "# !pip install --user scikit-image\n",
    "# !pip install --user opencv-python"
   ]
  },
  {
   "cell_type": "code",
   "execution_count": null,
   "metadata": {},
   "outputs": [],
   "source": [
    "# Importing the libraries into this Notebook\n",
    "import math\n",
    "import sys\n",
    "import time\n",
    "import util\n",
    "\n",
    "import numpy as np\n",
    "\n",
    "from scipy.optimize import linear_sum_assignment"
   ]
  },
  {
   "cell_type": "markdown",
   "metadata": {},
   "source": [
    "## Ex 1 - Loading coordinates and visualising\n",
    "### Background\n",
    "- The aim of the game this afternoon is to learn about tracking, so we don't want to spend half our time detecting objects to be tracked.  As such, you'll find a pre-prepared CSV file with object coordinates at **../data/ExampleCoordinates.csv**\n",
    "- **Discuss the contents of the csv such as columns**\n",
    "- The image these coordinates were extracted from is at **../data/ExampleTimeseries.tif**\n",
    "- Both the example image and associated coordinates were taken from **Where?**\n",
    "- Similarly, we could sink a couple of hours into creating a script to draw our object coordinates and tracks.  For now, I've created a separate script which will do this for us.  This is in the \"util.py\" file we just imported.\n",
    "\n",
    "### Aim\n",
    "- Load object coordinates from **../data/ExampleCoordinate.csv** into a Pandas dataframe\n",
    "- Load the timeseries images corresponding to the coordinates into a 3D Numpy array\n",
    "- Visualise the coordinates as an overlay on the timeseries images"
   ]
  },
  {
   "cell_type": "code",
   "execution_count": null,
   "metadata": {},
   "outputs": [],
   "source": []
  }
 ],
 "metadata": {
  "kernelspec": {
   "display_name": "Python 3",
   "language": "python",
   "name": "python3"
  },
  "language_info": {
   "codemirror_mode": {
    "name": "ipython",
    "version": 3
   },
   "file_extension": ".py",
   "mimetype": "text/x-python",
   "name": "python",
   "nbconvert_exporter": "python",
   "pygments_lexer": "ipython3",
   "version": "3.6.8"
  }
 },
 "nbformat": 4,
 "nbformat_minor": 2
}
