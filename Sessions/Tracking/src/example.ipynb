{
 "cells": [
  {
   "cell_type": "markdown",
   "metadata": {},
   "source": [
    "# Example tracking workflow\n",
    "## Comments\n",
    "- Mention that throughout:\n",
    "    - \"coords\" will be the full table of coordinates, along with assigned track IDs\n",
    "    - \"tracks\" will be the coordinates of the most recent track instance\n",
    "    - \"points\" will be the coordinates for the current frame\n",
    "\n",
    "## Ideas\n",
    "- Cover both Munkres (dense cost matrix) and JV LAPMOD (sparse cost matrix) for linking, comparing speed and memory allocation for different number of points.  This may be one for the talk, rather than having others do it.  That way it doesn't matter what memory is available.\n",
    "- Start by getting a basic (adjacent frames only, no track splitting/merging) workflow completed.  For the previous frames, set start_frame and end_frame to the same value (i.e. frame-1).\n",
    "- Add more factors to cost matrix.  The easiest to show may be conservation of size.  Mention that we could also add a threshold for size change, but we won't.  Example data will need to have instances of miss-linking that are resolved with size-based linking.\n",
    "- Add multi-frame tracking by extending linking to n previous frames.  This will require addition of extraction of only the most recent instances of each track.\n"
   ]
  },
  {
   "cell_type": "markdown",
   "metadata": {},
   "source": [
    "## Installing packages"
   ]
  },
  {
   "cell_type": "code",
   "execution_count": null,
   "metadata": {},
   "outputs": [],
   "source": [
    "!pip install --user matplotlib\n",
    "!pip install --user pandas\n",
    "!pip install --user Pillow\n",
    "!pip install --user scikit-image"
   ]
  },
  {
   "cell_type": "markdown",
   "metadata": {},
   "source": [
    "## Importing libraries"
   ]
  },
  {
   "cell_type": "code",
   "execution_count": 1,
   "metadata": {},
   "outputs": [],
   "source": [
    "import math\n",
    "import sys\n",
    "import time\n",
    "import util\n",
    "\n",
    "import numpy as np\n",
    "\n",
    "from scipy.optimize import linear_sum_assignment"
   ]
  },
  {
   "cell_type": "markdown",
   "metadata": {},
   "source": [
    "## Getting coordinates present in frame"
   ]
  },
  {
   "cell_type": "code",
   "execution_count": 2,
   "metadata": {
    "scrolled": true
   },
   "outputs": [],
   "source": [
    "def get_current_coords(coords, frame):\n",
    "    # Identifying rows of \"coords\" with current frame number\n",
    "    rows = coords.index[coords['T'] == frame]\n",
    "\n",
    "    return rows"
   ]
  },
  {
   "cell_type": "markdown",
   "metadata": {},
   "source": [
    "## Get available tracks"
   ]
  },
  {
   "cell_type": "code",
   "execution_count": 3,
   "metadata": {},
   "outputs": [],
   "source": [
    "def get_available_tracks(coords, start_frame, end_frame):\n",
    "    # Getting all rows present within the specified time interval\n",
    "    rows = coords.index[(coords['T'] >= start_frame) & (coords['T'] <= end_frame)]\n",
    "    \n",
    "    # Getting the most recent instance of this track\n",
    "    track_rows = []\n",
    "    unique_IDs = np.unique(coords['TRACK_ID'][rows])\n",
    "    for unique_ID in unique_IDs:\n",
    "        if unique_ID != 0:\n",
    "            # Getting rows for all instances of this track\n",
    "            instances = coords.index[coords['TRACK_ID'] == unique_ID]    \n",
    "            \n",
    "            # Getting most recent instance of this track and appending it to final_rows\n",
    "            track_rows.append(instances[-1:][0])\n",
    "                    \n",
    "    return track_rows"
   ]
  },
  {
   "cell_type": "markdown",
   "metadata": {},
   "source": [
    "## Initialise first timepoint\n",
    "All cells detected in the first timepoint can be considered \"new\" tracks.  As such, we give them each a unique track ID number."
   ]
  },
  {
   "cell_type": "code",
   "execution_count": 4,
   "metadata": {},
   "outputs": [],
   "source": [
    "def initialise_first_timepoint(coords):\n",
    "    # Adding a blank extra column for the track ID\n",
    "    coords['TRACK_ID'] = 0\n",
    "\n",
    "    # Getting the row indices for the first frame\n",
    "    idx_first = coords['T'] == 0\n",
    "\n",
    "    coords.loc[idx_first,'TRACK_ID'] = range(1,sum(idx_first)+1)"
   ]
  },
  {
   "cell_type": "markdown",
   "metadata": {},
   "source": [
    "## Calculate linking costs"
   ]
  },
  {
   "cell_type": "code",
   "execution_count": 5,
   "metadata": {},
   "outputs": [],
   "source": [
    "def calculate_dense_cost_matrix(coords,track_rows,point_rows,thresh):\n",
    "    # Creating the empty array\n",
    "    costs = np.empty((len(track_rows),len(point_rows)))\n",
    "        \n",
    "    # Iterating over each pair, calculating the cost\n",
    "    for track_i, track_row in enumerate(track_rows):\n",
    "        for point_i,point_row in enumerate(point_rows):            \n",
    "            cost = calculate_cost(coords,track_row,point_row,thresh)\n",
    "            costs[track_i,point_i] = cost\n",
    "           \n",
    "    return costs\n",
    "    \n",
    "def calculate_cost(coords,track_row,point_row,thresh):\n",
    "    # Spatial linking (distance between two points)\n",
    "    dx = coords['X'][point_row] - coords['X'][track_row]\n",
    "    dy = coords['Y'][point_row] - coords['Y'][track_row]\n",
    "    d = math.sqrt(dx*dx + dy*dy)\n",
    "    \n",
    "    # If the two points are separated by more than the linking threshold, set them to infinity ('inf')\n",
    "    if d > thresh:\n",
    "        d = 1000000000\n",
    "    \n",
    "    return d\n",
    "\n",
    "def calculate_cost_with_size(coords,track_row,point_row,thresh):\n",
    "    # Spatial linking (distance between two points)\n",
    "    dx = coords['X'][point_row] - coords['X'][track_row]\n",
    "    dy = coords['Y'][point_row] - coords['Y'][track_row]\n",
    "    d = math.sqrt(dx*dx + dy*dy)\n",
    "    \n",
    "    # ADD SIZE COST\n",
    "    \n",
    "    # If the two points are separated by more than the linking threshold, set them to infinity ('inf')\n",
    "    if d > thresh:\n",
    "        d = 1000000000\n",
    "    \n",
    "    return d"
   ]
  },
  {
   "cell_type": "markdown",
   "metadata": {},
   "source": [
    "# Inheriting track IDs from previous frame\n",
    "If the linked point in the previous frame already has an ID assigned to it, pass this on to the linked point (this SHOULD always be the case).  If our point wasn't assigned a link, set its track ID to the smallest unused value."
   ]
  },
  {
   "cell_type": "code",
   "execution_count": 6,
   "metadata": {},
   "outputs": [],
   "source": [
    "def assign_IDs(costs, assignments, coords, track_rows, point_rows):\n",
    "    for track_assignment, point_assignment in zip(assignments[0],assignments[1]):\n",
    "        # Even though we set disallowed costs to 1000000000, if there are no better options, Munkres will still assign this. \n",
    "        # We need to check if the assignment corresponds to one of these disallowed assignments.\n",
    "        if costs[track_assignment,point_assignment] < 1000000000:\n",
    "            ID = coords.at[track_rows[track_assignment],'TRACK_ID']\n",
    "            coords.at[point_rows[point_assignment],'TRACK_ID'] = ID\n"
   ]
  },
  {
   "cell_type": "markdown",
   "metadata": {},
   "source": [
    "# Assigning track IDs to unlinked points"
   ]
  },
  {
   "cell_type": "code",
   "execution_count": 7,
   "metadata": {},
   "outputs": [],
   "source": [
    "def assign_new_IDs(coords, point_rows):\n",
    "    # Getting the maximum track ID present in coords\n",
    "    max_ID = coords.TRACK_ID.max()\n",
    "    \n",
    "    # Iterating over all current points and assigning the next available ID if they're still 0\n",
    "    for point_row in point_rows:\n",
    "        if coords.at[point_row,'TRACK_ID'] == 0:\n",
    "            max_ID = max_ID + 1\n",
    "            coords.at[point_row,'TRACK_ID'] = max_ID"
   ]
  },
  {
   "cell_type": "markdown",
   "metadata": {},
   "source": [
    "## Main workflow"
   ]
  },
  {
   "cell_type": "code",
   "execution_count": 8,
   "metadata": {},
   "outputs": [
    {
     "data": {
      "text/html": [
       "<style>\n",
       ".output_wrapper button.btn.btn-default,\n",
       ".output_wrapper .ui-dialog-titlebar {\n",
       "  display: none;\n",
       "}\n",
       "</style>\n"
      ],
      "text/plain": [
       "<IPython.core.display.HTML object>"
      ]
     },
     "metadata": {},
     "output_type": "display_data"
    }
   ],
   "source": [
    "%%html\n",
    "<style>\n",
    ".output_wrapper button.btn.btn-default,\n",
    ".output_wrapper .ui-dialog-titlebar {\n",
    "  display: none;\n",
    "}\n",
    "</style>"
   ]
  },
  {
   "cell_type": "code",
   "execution_count": 9,
   "metadata": {
    "scrolled": true
   },
   "outputs": [
    {
     "name": "stdout",
     "output_type": "stream",
     "text": [
      "Loading images from \" ..\\data\\ExampleTimeseries.tif \"\n",
      "Loaded image shape:  (92, 700, 1100)\n",
      "Reordered image shape:  (700, 1100, 92)\n",
      " \n",
      "Loading coordinates from \" ../data/ObjectCoordinatesNoHeader.csv \"\n",
      "Loaded data shape:  (8639, 6)\n",
      " \n",
      "\n",
      "Processing frame 1\n",
      "Processing frame 2\n",
      "Processing frame 3\n",
      "Processing frame 4\n",
      "Processing frame 5\n",
      "Processing frame 6\n",
      "Processing frame 7\n",
      "Processing frame 8\n",
      "Processing frame 9\n",
      "Processing frame 10\n",
      "Processing frame 11\n",
      "Processing frame 12\n",
      "Processing frame 13\n",
      "Processing frame 14\n",
      "Processing frame 15\n",
      "Processing frame 16\n",
      "Processing frame 17\n",
      "Processing frame 18\n",
      "Processing frame 19\n",
      "Processing frame 20\n",
      "Processing frame 21\n",
      "Processing frame 22\n",
      "Processing frame 23\n",
      "Processing frame 24\n",
      "Processing frame 25\n",
      "Processing frame 26\n",
      "Processing frame 27\n",
      "Processing frame 28\n",
      "Processing frame 29\n",
      "Processing frame 30\n",
      "Processing frame 31\n",
      "Processing frame 32\n",
      "Processing frame 33\n",
      "Processing frame 34\n",
      "Processing frame 35\n",
      "Processing frame 36\n",
      "Processing frame 37\n",
      "Processing frame 38\n",
      "Processing frame 39\n",
      "Processing frame 40\n",
      "Processing frame 41\n",
      "Processing frame 42\n",
      "Processing frame 43\n",
      "Processing frame 44\n",
      "Processing frame 45\n",
      "Processing frame 46\n",
      "Processing frame 47\n",
      "Processing frame 48\n",
      "Processing frame 49\n",
      "Processing frame 50\n",
      "Processing frame 51\n",
      "Processing frame 52\n",
      "Processing frame 53\n",
      "Processing frame 54\n",
      "Processing frame 55\n",
      "Processing frame 56\n",
      "Processing frame 57\n",
      "Processing frame 58\n",
      "Processing frame 59\n",
      "Processing frame 60\n",
      "Processing frame 61\n",
      "Processing frame 62\n",
      "Processing frame 63\n",
      "Processing frame 64\n",
      "Processing frame 65\n",
      "Processing frame 66\n",
      "Processing frame 67\n",
      "Processing frame 68\n",
      "Processing frame 69\n",
      "Processing frame 70\n",
      "Processing frame 71\n",
      "Processing frame 72\n",
      "Processing frame 73\n",
      "Processing frame 74\n",
      "Processing frame 75\n",
      "Processing frame 76\n",
      "Processing frame 77\n",
      "Processing frame 78\n",
      "Processing frame 79\n",
      "Processing frame 80\n",
      "Processing frame 81\n",
      "Processing frame 82\n",
      "Processing frame 83\n",
      "Processing frame 84\n",
      "Processing frame 85\n",
      "Processing frame 86\n",
      "Processing frame 87\n",
      "Processing frame 88\n",
      "Processing frame 89\n",
      "Processing frame 90\n",
      "Processing frame 91\n",
      "Complete!\n"
     ]
    }
   ],
   "source": [
    "%matplotlib notebook\n",
    "\n",
    "# Setting parameters\n",
    "np.set_printoptions(precision=3,threshold=sys.maxsize)\n",
    "linking_thresh = 10\n",
    "frame_thresh = 2\n",
    "\n",
    "# # Loading image stack\n",
    "path = \"..\\\\data\\\\ExampleTimeseries.tif\"\n",
    "images = util.load_images(path);\n",
    "\n",
    "# Loading coordinates\n",
    "path = \"../data/ObjectCoordinatesNoHeader.csv\"\n",
    "coords = util.load_coordinates(path);\n",
    "\n",
    "# Getting the number of frames\n",
    "n_frames = images.shape[2]\n",
    "\n",
    "# Set new track IDs for each object in the first frame\n",
    "initialise_first_timepoint(coords)\n",
    "\n",
    "# Starting at frame 2, looping over each frame, linking pairs\n",
    "print(\"\")\n",
    "for frame in range (1,n_frames):    \n",
    "    sys.stdout.write(\"\\rProcessing frame %i\" % frame)\n",
    "    \n",
    "    start_frame = frame-1-frame_thresh\n",
    "    end_frame = frame-1\n",
    "    \n",
    "    # Get row labels for the previous and current frame\n",
    "    track_rows = get_available_tracks(coords,start_frame,end_frame)\n",
    "    point_rows = get_current_coords(coords,frame)\n",
    "    \n",
    "    # Calculate costs for each possible link, then use Munkres to determine assignments\n",
    "    costs = calculate_dense_cost_matrix(coords,track_rows,point_rows,linking_thresh)    \n",
    "    assignments = linear_sum_assignment(costs)\n",
    "        \n",
    "    # Assigning links\n",
    "    assign_IDs(costs,assignments,coords,track_rows,point_rows)\n",
    "    assign_new_IDs(coords,point_rows)\n",
    "    \n",
    "print(\"\")\n",
    "print(\"Complete!\")"
   ]
  },
  {
   "cell_type": "code",
   "execution_count": null,
   "metadata": {},
   "outputs": [
    {
     "name": "stdout",
     "output_type": "stream",
     "text": [
      "Rendering frame 8 of 92"
     ]
    }
   ],
   "source": [
    "# Adding track renders\n",
    "util.show_overlay(images,coords)"
   ]
  },
  {
   "cell_type": "code",
   "execution_count": null,
   "metadata": {},
   "outputs": [],
   "source": []
  }
 ],
 "metadata": {
  "kernelspec": {
   "display_name": "Python 3",
   "language": "python",
   "name": "python3"
  },
  "language_info": {
   "codemirror_mode": {
    "name": "ipython",
    "version": 3
   },
   "file_extension": ".py",
   "mimetype": "text/x-python",
   "name": "python",
   "nbconvert_exporter": "python",
   "pygments_lexer": "ipython3",
   "version": "3.7.3"
  }
 },
 "nbformat": 4,
 "nbformat_minor": 2
}
