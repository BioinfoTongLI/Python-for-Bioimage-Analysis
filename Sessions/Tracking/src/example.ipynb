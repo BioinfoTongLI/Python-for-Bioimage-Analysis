{
 "cells": [
  {
   "cell_type": "markdown",
   "metadata": {},
   "source": [
    "# Example tracking workflow\n",
    "\n",
    "## Ideas\n",
    "- Cover both Munkres (dense cost matrix) and JV LAPMOD (sparse cost matrix) for linking, comparing speed and memory allocation for different number of points.  This may be one for the talk, rather than having others do it.  That way it doesn't matter what memory is available.\n"
   ]
  },
  {
   "cell_type": "markdown",
   "metadata": {},
   "source": [
    "## Installing packages"
   ]
  },
  {
   "cell_type": "code",
   "execution_count": 29,
   "metadata": {},
   "outputs": [
    {
     "name": "stdout",
     "output_type": "stream",
     "text": [
      "Requirement already satisfied: lap in /home/scross/.local/lib/python3.6/site-packages (0.4.0)\n",
      "Requirement already satisfied: matplotlib in /home/scross/.local/lib/python3.6/site-packages (3.1.1)\n",
      "Requirement already satisfied: pyparsing!=2.0.4,!=2.1.2,!=2.1.6,>=2.0.1 in /home/scross/.local/lib/python3.6/site-packages (from matplotlib) (2.4.2)\n",
      "Requirement already satisfied: cycler>=0.10 in /home/scross/.local/lib/python3.6/site-packages (from matplotlib) (0.10.0)\n",
      "Requirement already satisfied: numpy>=1.11 in /usr/lib64/python3.6/site-packages (from matplotlib) (1.13.3)\n",
      "Requirement already satisfied: kiwisolver>=1.0.1 in /home/scross/.local/lib/python3.6/site-packages (from matplotlib) (1.1.0)\n",
      "Requirement already satisfied: python-dateutil>=2.1 in /usr/lib/python3.6/site-packages (from matplotlib) (2.8.0)\n",
      "Requirement already satisfied: six in /usr/lib/python3.6/site-packages (from cycler>=0.10->matplotlib) (1.12.0)\n",
      "Requirement already satisfied: setuptools in /usr/lib/python3.6/site-packages (from kiwisolver>=1.0.1->matplotlib) (36.6.0)\n",
      "Requirement already satisfied: pandas in /home/scross/.local/lib/python3.6/site-packages (0.25.1)\n",
      "Requirement already satisfied: numpy>=1.13.3 in /usr/lib64/python3.6/site-packages (from pandas) (1.13.3)\n",
      "Requirement already satisfied: pytz>=2017.2 in /home/scross/.local/lib/python3.6/site-packages (from pandas) (2019.2)\n",
      "Requirement already satisfied: python-dateutil>=2.6.1 in /usr/lib/python3.6/site-packages (from pandas) (2.8.0)\n",
      "Requirement already satisfied: six>=1.5 in /usr/lib/python3.6/site-packages (from python-dateutil>=2.6.1->pandas) (1.12.0)\n",
      "Requirement already satisfied: Pillow in /home/scross/.local/lib/python3.6/site-packages (6.2.0)\n",
      "Requirement already satisfied: scikit-image in /home/scross/.local/lib/python3.6/site-packages (0.15.0)\n",
      "Requirement already satisfied: pillow>=4.3.0 in /home/scross/.local/lib/python3.6/site-packages (from scikit-image) (6.2.0)\n",
      "Requirement already satisfied: PyWavelets>=0.4.0 in /home/scross/.local/lib/python3.6/site-packages (from scikit-image) (1.0.3)\n",
      "Requirement already satisfied: imageio>=2.0.1 in /home/scross/.local/lib/python3.6/site-packages (from scikit-image) (2.5.0)\n",
      "Requirement already satisfied: matplotlib!=3.0.0,>=2.0.0 in /home/scross/.local/lib/python3.6/site-packages (from scikit-image) (3.1.1)\n",
      "Requirement already satisfied: networkx>=2.0 in /home/scross/.local/lib/python3.6/site-packages (from scikit-image) (2.3)\n",
      "Requirement already satisfied: scipy>=0.17.0 in /home/scross/.local/lib/python3.6/site-packages (from scikit-image) (1.3.1)\n",
      "Requirement already satisfied: numpy>=1.9.1 in /usr/lib64/python3.6/site-packages (from PyWavelets>=0.4.0->scikit-image) (1.13.3)\n",
      "Requirement already satisfied: pyparsing!=2.0.4,!=2.1.2,!=2.1.6,>=2.0.1 in /home/scross/.local/lib/python3.6/site-packages (from matplotlib!=3.0.0,>=2.0.0->scikit-image) (2.4.2)\n",
      "Requirement already satisfied: cycler>=0.10 in /home/scross/.local/lib/python3.6/site-packages (from matplotlib!=3.0.0,>=2.0.0->scikit-image) (0.10.0)\n",
      "Requirement already satisfied: kiwisolver>=1.0.1 in /home/scross/.local/lib/python3.6/site-packages (from matplotlib!=3.0.0,>=2.0.0->scikit-image) (1.1.0)\n",
      "Requirement already satisfied: python-dateutil>=2.1 in /usr/lib/python3.6/site-packages (from matplotlib!=3.0.0,>=2.0.0->scikit-image) (2.8.0)\n",
      "Requirement already satisfied: decorator>=4.3.0 in /usr/lib/python3.6/site-packages (from networkx>=2.0->scikit-image) (4.4.0)\n",
      "Requirement already satisfied: six in /usr/lib/python3.6/site-packages (from cycler>=0.10->matplotlib!=3.0.0,>=2.0.0->scikit-image) (1.12.0)\n",
      "Requirement already satisfied: setuptools in /usr/lib/python3.6/site-packages (from kiwisolver>=1.0.1->matplotlib!=3.0.0,>=2.0.0->scikit-image) (36.6.0)\n"
     ]
    }
   ],
   "source": [
    "!pip install --user lap;\n",
    "!pip install --user matplotlib;\n",
    "!pip install --user pandas;\n",
    "!pip install --user Pillow;\n",
    "!pip install --user scikit-image;"
   ]
  },
  {
   "cell_type": "markdown",
   "metadata": {},
   "source": [
    "## Importing libraries"
   ]
  },
  {
   "cell_type": "code",
   "execution_count": 23,
   "metadata": {},
   "outputs": [],
   "source": [
    "import lap\n",
    "import math\n",
    "import sys\n",
    "import util\n",
    "\n",
    "import numpy as np\n",
    "from lap import lapmod   "
   ]
  },
  {
   "cell_type": "markdown",
   "metadata": {},
   "source": [
    "## Getting coordinates present in frame"
   ]
  },
  {
   "cell_type": "code",
   "execution_count": 24,
   "metadata": {
    "scrolled": true
   },
   "outputs": [],
   "source": [
    "def get_coordinates(coords, frame):\n",
    "    # Identifying rows of \"coords\" with current frame number\n",
    "    frame_coords = coords[coords['T'] == frame]\n",
    "\n",
    "    return frame_coords"
   ]
  },
  {
   "cell_type": "markdown",
   "metadata": {},
   "source": [
    "## Initialise first timepoint\n",
    "All cells detected in the first timepoint can be considered \"new\" tracks.  As such, we give them each a unique track ID number."
   ]
  },
  {
   "cell_type": "code",
   "execution_count": 25,
   "metadata": {},
   "outputs": [],
   "source": [
    "def initialise_first_timepoint(coords):\n",
    "    # Adding a blank extra column for the track ID\n",
    "    coords['TRACK_ID'] = 0\n",
    "\n",
    "    # Getting the row indices for the first frame\n",
    "    idx_first = coords['T'] == 0\n",
    "\n",
    "    coords.loc[idx_first,'TRACK_ID'] = range(1,sum(idx_first)+1)"
   ]
  },
  {
   "cell_type": "markdown",
   "metadata": {},
   "source": [
    "## Calculate linking costs"
   ]
  },
  {
   "cell_type": "code",
   "execution_count": 26,
   "metadata": {},
   "outputs": [],
   "source": [
    "def calculate_dense_cost_matrix(prev,curr,thresh):\n",
    "    # Creating the empty array\n",
    "    costs = np.empty((len(prev),len(curr)))\n",
    "    \n",
    "    # Iterating over each pair, calculating the cost\n",
    "    for prev_idx,(prev_row,prev_pt) in enumerate(prev.iterrows()):\n",
    "        for curr_idx,(curr_row,curr_pt) in enumerate(curr.iterrows()):\n",
    "            # Calculating cost\n",
    "            cost = calculate_cost(prev_pt,curr_pt,thresh)\n",
    "            \n",
    "            # Adding the cost to the cost matrix\n",
    "            costs[prev_idx,curr_idx] = cost\n",
    "                \n",
    "    return costs\n",
    "    \n",
    "\n",
    "## Arguments\n",
    "# idxs1 = \"coords\" table indices of points in previous frame\n",
    "# idxs2 = \"coords\" table indices of points in current frame\n",
    "# thresh = maximum linking distance for points to move between two frames\n",
    "\n",
    "## Return\n",
    "# n_rows = the number of rows in the cost matrix\n",
    "# cc = array starting at [0,0] and proceeding row-by-row, these are the cost values\n",
    "# ii = array holding cumulative number of non-zero costs after each row.  Has an extra 0 at the start\n",
    "# kk = cost matrix column index of each element in cc\n",
    "\n",
    "def calculate_sparse_cost_matrix(prev,curr,thresh):\n",
    "    # Initalising variables\n",
    "    n_NZ = 0\n",
    "    cc = []\n",
    "    ii = [0] # ii has an extra 0 at the start\n",
    "    kk = []\n",
    "            \n",
    "    # Iterating over each pair, calculating the cost\n",
    "    for prev_idx,(prev_row,prev_pt) in enumerate(prev.iterrows()):\n",
    "        for curr_idx,(curr_row,curr_pt) in enumerate(curr.iterrows()):\n",
    "            # Calculating cost\n",
    "            cost = calculate_cost(prev_pt,curr_pt,thresh)\n",
    "            \n",
    "            # Only include costs lower than the threshold\n",
    "            if cost < thresh:\n",
    "                cc.append(cost)\n",
    "                kk.append(curr_idx)\n",
    "                n_NZ = n_NZ + 1\n",
    "                \n",
    "        ii.append(n_NZ)\n",
    "    \n",
    "    # Converting to Numpy arrays\n",
    "    cc_np = np.array(cc)\n",
    "    ii_np = np.array(ii)\n",
    "    kk_np = np.array(kk)\n",
    "    \n",
    "    # Removing columns without values.  Iterate over each possible value, checking if there's an instance of it\n",
    "    for idx in range(0,kk_np.max()+1):\n",
    "        # If this value isn't present, shift all remaining columns down by 1\n",
    "        if np.sum(kk_np==idx) == 0:\n",
    "            kk_np[kk_np>idx] = kk_np[kk_np>idx]-1\n",
    "        \n",
    "    # Remmoving empty rows.  Reverse iterate over all values in ii.  If a value is the same as the previous, remove this row\n",
    "    for idx in range(len(prev),0,-1):\n",
    "        if(ii[idx] == ii[idx-1]):\n",
    "            ii.remove(ii[idx])\n",
    "            \n",
    "    ## NEED TO CHECK THERE WILL BE MORE ROWS THAN COLUMNS, OTHERWISE TRANSPOSE COST MATRIX AND RETURN BOOLEAN INDICATING IF \n",
    "    ## IT'S BEEN TRANSPOSED\n",
    "\n",
    "    return len(ii)-1, cc_np, np.array(ii), kk_np\n",
    "            \n",
    "    \n",
    "def calculate_cost(prev_pt,curr_pt,thresh):\n",
    "    # Spatial linking (distance between two points)\n",
    "    dx = (curr_pt.X-prev_pt.X)\n",
    "    dy = (curr_pt.Y-prev_pt.Y)\n",
    "    d = math.sqrt(dx*dx + dy*dy)\n",
    "    \n",
    "    # If the two points are separated by more than the linking threshold, set them to infinity ('inf')\n",
    "    if d > thresh:\n",
    "        d = math.inf\n",
    "    \n",
    "    return d"
   ]
  },
  {
   "cell_type": "markdown",
   "metadata": {},
   "source": [
    "## Main workflow"
   ]
  },
  {
   "cell_type": "code",
   "execution_count": 28,
   "metadata": {
    "scrolled": true
   },
   "outputs": [
    {
     "name": "stdout",
     "output_type": "stream",
     "text": [
      "Loading coordinates from \" ../data/TestObjectCoordinatesNoHeader.csv \"\n",
      "Loaded data shape:  (16, 6)\n",
      " \n",
      "Prev:\n",
      "     ID           X           Y    T         AREA  INTENSITY  TRACK_ID\n",
      "0  1.0   24.000000  499.000000  0.0  34061.72464       69.0         1\n",
      "1  2.0   44.000000  581.000000  0.0  33106.98446      193.0         2\n",
      "2  3.0   51.209726  516.325228  0.0  33761.68693      329.0         3\n",
      "3  4.0   76.464126  464.414798  0.0  33698.22197      446.0         4\n",
      "4  5.0  114.000000  523.000000  0.0  33975.46230      305.0         5\n",
      "5  6.0  121.203349  467.595694  0.0  33847.26077      418.0         6\n",
      "6  7.0  166.000000  568.000000  0.0  33848.50820      305.0         7 \n",
      "\n",
      "Curr:\n",
      "       ID           X           Y    T         AREA  INTENSITY  TRACK_ID\n",
      "7   44.0   25.000000  495.000000  1.0  34052.37681       69.0         0\n",
      "8   45.0   44.000000  581.000000  1.0  33118.20725      193.0         0\n",
      "9   46.0   55.960422  513.007916  1.0  33789.78100      379.0         0\n",
      "10  47.0   76.592992  461.223720  1.0  33896.51752      371.0         0\n",
      "11  48.0  114.000000  523.000000  1.0  34080.27213      305.0         0\n",
      "12  49.0  118.000000  468.500000  1.0  33935.66915      402.0         0\n",
      "13  50.0  166.000000  572.000000  1.0  33925.10492      305.0         0\n",
      "14  51.0  168.000000   32.000000  1.0  33395.35556       45.0         0\n",
      "15  52.0  182.000000  497.000000  1.0  33086.95172      145.0         0 \n",
      "\n",
      "Dense costs:\n",
      " [[  4.123     inf  34.895     inf     inf     inf     inf     inf     inf]\n",
      " [    inf   0.        inf     inf     inf     inf     inf     inf     inf]\n",
      " [ 33.789     inf   5.794     inf     inf     inf     inf     inf     inf]\n",
      " [    inf     inf     inf   3.194     inf  41.736     inf     inf     inf]\n",
      " [    inf     inf     inf     inf   0.        inf     inf     inf     inf]\n",
      " [    inf     inf     inf  45.063     inf   3.329     inf     inf     inf]\n",
      " [    inf     inf     inf     inf     inf     inf   4.        inf     inf]] \n",
      "\n",
      "Sparse costs:\n",
      " (7, array([  4.123,  34.895,   0.1  ,  33.789,   5.794,   3.194,  41.736,\n",
      "         0.   ,  45.063,   3.329,   4.   ]), array([ 0,  2,  3,  5,  7,  8, 10, 11]), array([0, 2, 1, 0, 2, 3, 5, 4, 3, 5, 6])) \n",
      "\n",
      "20.5396099803\n",
      "x = array([0, 1, 2, 3, 4, 5, 6], dtype=int32)\n",
      "y = array([0, 1, 2, 3, 4, 5, 6], dtype=int32)\n"
     ]
    }
   ],
   "source": [
    "# Setting parameters\n",
    "np.set_printoptions(precision=3,threshold=sys.maxsize)\n",
    "linking_thresh = 50\n",
    "\n",
    "# # Loading image stack\n",
    "# path = \"..\\\\data\\\\ExampleTimeseries.tif\"\n",
    "# images = util.load_images(path);\n",
    "\n",
    "# Loading coordinates\n",
    "path = \"../data/TestObjectCoordinatesNoHeader.csv\"\n",
    "coords = util.load_coordinates(path);\n",
    "\n",
    "# # Getting the number of frames\n",
    "# n_frames = images.shape[2]\n",
    "# print(\"Loaded %i frames\" % n_frames)\n",
    "\n",
    "# Set new track IDs for each object in the first frame\n",
    "initialise_first_timepoint(coords)\n",
    "\n",
    "# Starting at frame 2, looping over each frame, linking pairs\n",
    "for frame in range(1,2): #range (1,n_frames):\n",
    "    # Get coordinates from the previous frame\n",
    "    prev_coords = get_coordinates(coords,frame-1)\n",
    "    \n",
    "    # Get coordinates from the current frame\n",
    "    curr_coords = get_coordinates(coords,frame)\n",
    "    \n",
    "    print(\"Prev:\\n\",prev_coords,\"\\n\")    \n",
    "    print(\"Curr:\\n\",curr_coords,\"\\n\")\n",
    "    \n",
    "    # Calculate costs for each possible link\n",
    "    dense_costs = calculate_dense_cost_matrix(prev_coords,curr_coords,linking_thresh)\n",
    "    print(\"Dense costs:\\n\",dense_costs,\"\\n\")\n",
    "    \n",
    "    n_rows, cc, ii, kk = calculate_sparse_cost_matrix(prev_coords,curr_coords,linking_thresh)\n",
    "    cc[2] = 0.1\n",
    "    print(\"Sparse costs:\\n\",(n_rows, cc, ii, kk),\"\\n\")\n",
    "    \n",
    "    # Calculate assigninments for each\n",
    "    opt,x,y = lapmod(n_rows,cc,ii,kk)\n",
    "    \n",
    "    print(opt)\n",
    "    print(\"x = %a\" % x)\n",
    "    print(\"y = %a\" % y)"
   ]
  },
  {
   "cell_type": "code",
   "execution_count": null,
   "metadata": {},
   "outputs": [],
   "source": []
  }
 ],
 "metadata": {
  "kernelspec": {
   "display_name": "Python 3",
   "language": "python",
   "name": "python3"
  },
  "language_info": {
   "codemirror_mode": {
    "name": "ipython",
    "version": 3
   },
   "file_extension": ".py",
   "mimetype": "text/x-python",
   "name": "python",
   "nbconvert_exporter": "python",
   "pygments_lexer": "ipython3",
   "version": "3.6.8"
  }
 },
 "nbformat": 4,
 "nbformat_minor": 2
}
