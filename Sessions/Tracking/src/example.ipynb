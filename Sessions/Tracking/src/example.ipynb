{
 "cells": [
  {
   "cell_type": "markdown",
   "metadata": {},
   "source": [
    "# Example tracking workflow\n",
    "\n",
    "## Comments\n",
    "- This implementation of Munkres has a flag for assignments that can't be made (DISALLOWED).  Some implementations don't have this, so you can make the assignment unlikely by setting it to inf, but after assignment, you'll still need to check this assignment hasn't been made.\n",
    "\n",
    "## Ideas\n",
    "- Cover both Munkres (dense cost matrix) and JV LAPMOD (sparse cost matrix) for linking, comparing speed and memory allocation for different number of points.  This may be one for the talk, rather than having others do it.  That way it doesn't matter what memory is available.\n",
    "- Start by getting a basic (adjacent frames only, no track splitting/merging) workflow working, then start add in components\n"
   ]
  },
  {
   "cell_type": "markdown",
   "metadata": {},
   "source": [
    "## Installing packages"
   ]
  },
  {
   "cell_type": "code",
   "execution_count": null,
   "metadata": {},
   "outputs": [],
   "source": [
    "!pip install --user lap\n",
    "!pip install --user matplotlib\n",
    "!pip install --user munkres\n",
    "!pip install --user pandas\n",
    "!pip install --user Pillow\n",
    "!pip install --user scikit-image"
   ]
  },
  {
   "cell_type": "markdown",
   "metadata": {},
   "source": [
    "## Importing libraries"
   ]
  },
  {
   "cell_type": "code",
   "execution_count": null,
   "metadata": {},
   "outputs": [],
   "source": [
    "import math\n",
    "import sys\n",
    "import time\n",
    "import util\n",
    "\n",
    "import numpy as np\n",
    "import scipy as sp\n",
    "\n",
    "from munkres import Munkres, print_matrix, DISALLOWED"
   ]
  },
  {
   "cell_type": "markdown",
   "metadata": {},
   "source": [
    "## Getting coordinates present in frame"
   ]
  },
  {
   "cell_type": "code",
   "execution_count": null,
   "metadata": {
    "scrolled": true
   },
   "outputs": [],
   "source": [
    "def get_coordinates(coords, frame):\n",
    "    # Identifying rows of \"coords\" with current frame number\n",
    "    rows = coords.index[coords['T'] == frame]\n",
    "\n",
    "    return rows"
   ]
  },
  {
   "cell_type": "markdown",
   "metadata": {},
   "source": [
    "## Initialise first timepoint\n",
    "All cells detected in the first timepoint can be considered \"new\" tracks.  As such, we give them each a unique track ID number."
   ]
  },
  {
   "cell_type": "code",
   "execution_count": null,
   "metadata": {},
   "outputs": [],
   "source": [
    "def initialise_first_timepoint(coords):\n",
    "    # Adding a blank extra column for the track ID\n",
    "    coords['TRACK_ID'] = 0\n",
    "\n",
    "    # Getting the row indices for the first frame\n",
    "    idx_first = coords['T'] == 0\n",
    "\n",
    "    coords.loc[idx_first,'TRACK_ID'] = range(1,sum(idx_first)+1)"
   ]
  },
  {
   "cell_type": "markdown",
   "metadata": {},
   "source": [
    "## Calculate linking costs"
   ]
  },
  {
   "cell_type": "code",
   "execution_count": null,
   "metadata": {},
   "outputs": [],
   "source": [
    "def calculate_dense_cost_matrix(coords,prev_rows,curr_rows,thresh):\n",
    "    # Creating the empty array\n",
    "    costs = []\n",
    "    \n",
    "    # Iterating over each pair, calculating the cost\n",
    "    for prev_row in prev_rows:\n",
    "        new_costs = []\n",
    "        allowed = False\n",
    "        for curr_row in curr_rows:\n",
    "            # Calculating cost\n",
    "            curr_pt = coords.loc[curr_row]\n",
    "            cost = calculate_cost(coords.loc[prev_row],coords.loc[curr_row],thresh)\n",
    "            new_costs.append(cost)\n",
    "            \n",
    "            if cost != DISALLOWED:\n",
    "                allowed = True\n",
    "                \n",
    "            # If there was at least one allowed value add the cost to the cost matrix\n",
    "        if allowed:\n",
    "            costs.append((prev_row,new_costs))\n",
    "           \n",
    "    return [new_costs for _,new_costs in costs], [prev_rows for prev_rows,_ in costs]\n",
    "\n",
    "    \n",
    "def calculate_cost(prev_pt,curr_pt,thresh):\n",
    "    # Spatial linking (distance between two points)\n",
    "    dx = (curr_pt.X-prev_pt.X)\n",
    "    dy = (curr_pt.Y-prev_pt.Y)\n",
    "    d = math.sqrt(dx*dx + dy*dy)\n",
    "    \n",
    "    # If the two points are separated by more than the linking threshold, set them to infinity ('inf')\n",
    "    if d > thresh:\n",
    "        d = DISALLOWED\n",
    "    \n",
    "    return d"
   ]
  },
  {
   "cell_type": "markdown",
   "metadata": {},
   "source": [
    "# Inheriting track IDs from previous frame\n",
    "If the linked point in the previous frame already has an ID assigned to it, pass this on to the linked point (this SHOULD always be the case).  If our point wasn't assigned a link, set its track ID to the smallest unused value."
   ]
  },
  {
   "cell_type": "code",
   "execution_count": null,
   "metadata": {},
   "outputs": [],
   "source": [
    "def assign_IDs(assignments, coords, prev_rows, curr_rows):\n",
    "    for assignment in assignments:\n",
    "        ID = coords.at[prev_rows[assignment[0]],'TRACK_ID']\n",
    "        coords.at[curr_rows[assignment[1]],'TRACK_ID'] = ID\n"
   ]
  },
  {
   "cell_type": "markdown",
   "metadata": {},
   "source": [
    "# Assigning track IDs to unlinked points"
   ]
  },
  {
   "cell_type": "code",
   "execution_count": null,
   "metadata": {},
   "outputs": [],
   "source": [
    "def assign_new_IDs(coords, curr_rows):\n",
    "    # Getting the maximum track ID present in coords\n",
    "    max_ID = coords.TRACK_ID.max()\n",
    "    \n",
    "    # Iterating over all current points and assigning the next available ID if they're still 0\n",
    "    for curr_row in curr_rows:\n",
    "        if coords.at[curr_row,'TRACK_ID'] == 0:\n",
    "            max_ID = max_ID + 1\n",
    "            coords.at[curr_row,'TRACK_ID'] = max_ID"
   ]
  },
  {
   "cell_type": "markdown",
   "metadata": {},
   "source": [
    "## Main workflow"
   ]
  },
  {
   "cell_type": "code",
   "execution_count": null,
   "metadata": {},
   "outputs": [],
   "source": [
    "%%html\n",
    "<style>\n",
    ".output_wrapper button.btn.btn-default,\n",
    ".output_wrapper .ui-dialog-titlebar {\n",
    "  display: none;\n",
    "}\n",
    "</style>"
   ]
  },
  {
   "cell_type": "code",
   "execution_count": null,
   "metadata": {
    "scrolled": true
   },
   "outputs": [],
   "source": [
    "%matplotlib notebook\n",
    "\n",
    "# Setting parameters\n",
    "np.set_printoptions(precision=3,threshold=sys.maxsize)\n",
    "linking_thresh = 5\n",
    "\n",
    "# # Loading image stack\n",
    "path = \"..\\\\data\\\\ExampleTimeseries.tif\"\n",
    "images = util.load_images(path);\n",
    "\n",
    "# Loading coordinates\n",
    "path = \"../data/ObjectCoordinatesNoHeader.csv\"\n",
    "coords = util.load_coordinates(path);\n",
    "\n",
    "# # Getting the number of frames\n",
    "n_frames = images.shape[2]\n",
    "print(\"Loaded %i frames\" % n_frames)\n",
    "\n",
    "# Set new track IDs for each object in the first frame\n",
    "initialise_first_timepoint(coords)\n",
    "\n",
    "# Starting at frame 2, looping over each frame, linking pairs\n",
    "print(\"\")\n",
    "for frame in range (1,n_frames):    \n",
    "    sys.stdout.write(\"\\rProcessing frame %i\" % frame)\n",
    "    \n",
    "    # Get row labels for the previous and current frame\n",
    "    prev_rows = get_coordinates(coords,frame-1)\n",
    "    curr_rows = get_coordinates(coords,frame)\n",
    "    \n",
    "    # Calculate costs for each possible link, then use Munkres to determine assignments\n",
    "    dense_costs, nz_prev_rows = calculate_dense_cost_matrix(coords,prev_rows,curr_rows,linking_thresh)    \n",
    "    M = Munkres()\n",
    "    assignments = M.compute(dense_costs)\n",
    "    \n",
    "    # Assigning links\n",
    "    assign_IDs(assignments,coords,nz_prev_rows,curr_rows)\n",
    "    assign_new_IDs(coords,curr_rows)\n"
   ]
  },
  {
   "cell_type": "code",
   "execution_count": null,
   "metadata": {},
   "outputs": [],
   "source": [
    "# Adding track renders\n",
    "util.show_overlay(images,coords)"
   ]
  }
 ],
 "metadata": {
  "kernelspec": {
   "display_name": "Python 3",
   "language": "python",
   "name": "python3"
  },
  "language_info": {
   "codemirror_mode": {
    "name": "ipython",
    "version": 3
   },
   "file_extension": ".py",
   "mimetype": "text/x-python",
   "name": "python",
   "nbconvert_exporter": "python",
   "pygments_lexer": "ipython3",
   "version": "3.7.3"
  }
 },
 "nbformat": 4,
 "nbformat_minor": 2
}
