{
 "cells": [
  {
   "cell_type": "markdown",
   "metadata": {},
   "source": [
    "# Installing libraries"
   ]
  },
  {
   "cell_type": "code",
   "execution_count": 1,
   "metadata": {},
   "outputs": [],
   "source": [
    "import lap\n",
    "import math\n",
    "import sys\n",
    "import util\n",
    "\n",
    "import numpy as np\n",
    "import scipy as sp\n",
    "\n",
    "from lap import lapmod   \n",
    "from lap import lapjv   "
   ]
  },
  {
   "cell_type": "markdown",
   "metadata": {},
   "source": [
    "## Getting coordinates present in frame "
   ]
  },
  {
   "cell_type": "code",
   "execution_count": 2,
   "metadata": {},
   "outputs": [],
   "source": [
    "def get_coordinates(coords, frame):\n",
    "    # Identifying rows of \"coords\" with current frame number\n",
    "    frame_coords = coords[coords['T'] == frame]\n",
    "\n",
    "    return frame_coords"
   ]
  },
  {
   "cell_type": "markdown",
   "metadata": {},
   "source": [
    "## Initialise first timepoint\n",
    "All cells detected in the first timepoint can be considered \"new\" tracks.  As such, we give them each a unique track ID number."
   ]
  },
  {
   "cell_type": "code",
   "execution_count": 3,
   "metadata": {},
   "outputs": [],
   "source": [
    "def initialise_first_timepoint(coords):\n",
    "    # Adding a blank extra column for the track ID\n",
    "    coords['TRACK_ID'] = 0\n",
    "\n",
    "    # Getting the row indices for the first frame\n",
    "    idx_first = coords['T'] == 0\n",
    "\n",
    "    coords.loc[idx_first,'TRACK_ID'] = range(1,sum(idx_first)+1)"
   ]
  },
  {
   "cell_type": "markdown",
   "metadata": {},
   "source": [
    "# Calculating linking costs"
   ]
  },
  {
   "cell_type": "code",
   "execution_count": 4,
   "metadata": {},
   "outputs": [],
   "source": [
    "## Arguments\n",
    "# prev = \"coords\" table for points in previous frame\n",
    "# curr = \"coords\" table for points in current frame\n",
    "# thresh = maximum linking distance for points to move between two frames\n",
    "\n",
    "## Return\n",
    "# n_rows = the number of rows in the cost matrix\n",
    "# cc = array starting at [0,0] and proceeding row-by-row, these are the cost values\n",
    "# ii = array holding cumulative number of non-zero costs after each row.  Has an extra 0 at the start\n",
    "# kk = cost matrix column index of each element in cc\n",
    "# prev_rows = row indices (for coords array) for points in previous frame\n",
    "# curr_rows = row indices (for coords array) for points in current frame\n",
    "# transposed = boolean denoting if cost matrix is transposed\n",
    "\n",
    "def calculate_sparse_cost_matrix(prev,curr,thresh):\n",
    "#     row_ind = []\n",
    "#     col_ind = []\n",
    "#     data = []\n",
    "#     for prev_idx,(prev_row,prev_pt) in enumerate(prev.iterrows()):\n",
    "#         for curr_idx,(curr_row,curr_pt) in enumerate(curr.iterrows()):\n",
    "#             # Calculating cost\n",
    "#             cost = calculate_cost(prev_pt,curr_pt,thresh)\n",
    "            \n",
    "#             # Only include costs lower than the threshold\n",
    "#             if cost <= thresh:\n",
    "#                 row_ind.append(prev_idx)\n",
    "#                 col_ind.append(curr_idx)\n",
    "#                 data.append(cost)\n",
    "    \n",
    "#     spa = sp.sparse.csc_matrix((data,(row_ind,col_ind)))\n",
    "#     print(spa)\n",
    "                \n",
    "    # Initalising variables\n",
    "    n_NZ = 0\n",
    "    cc = []\n",
    "    ii = [0] # ii has an extra 0 at the start\n",
    "    kk = []\n",
    "            \n",
    "    # Iterating over each pair, calculating the cost\n",
    "    for prev_idx,(prev_row,prev_pt) in enumerate(prev.iterrows()):\n",
    "        for curr_idx,(curr_row,curr_pt) in enumerate(curr.iterrows()):\n",
    "            # Calculating cost\n",
    "            cost = calculate_cost(prev_pt,curr_pt,thresh)\n",
    "            \n",
    "            # Only include costs lower than the threshold\n",
    "            if cost <= thresh:\n",
    "                cc.append(cost)\n",
    "                kk.append(curr_idx)\n",
    "                n_NZ = n_NZ + 1\n",
    "                \n",
    "        # Adding the current number of costs\n",
    "        ii.append(n_NZ)\n",
    "        \n",
    "    # Creating lists of object indices within main coordinates table\n",
    "    prev_rows = [prev_row for (prev_row,_) in prev.iterrows()]\n",
    "    curr_rows = [curr_row for (curr_row,_) in curr.iterrows()]\n",
    "              \n",
    "    # Removing columns without values.  Iterate over each possible value, checking if there's an instance of it\n",
    "    kk_np = np.array(kk)\n",
    "    for idx in range(len(curr_rows)-1,-1,-1):\n",
    "        # If this value isn't present, shift all remaining columns down by 1\n",
    "        if np.sum(kk_np==idx) == 0:\n",
    "            del curr_rows[idx]\n",
    "                \n",
    "    for idx in range(0,kk_np.max()+1):\n",
    "        # If this value isn't present, shift all remaining columns down by 1\n",
    "        if np.sum(kk_np==idx) == 0:\n",
    "            kk_np[kk_np>idx] = kk_np[kk_np>idx]-1\n",
    "                    \n",
    "    # Remmoving empty rows.  Reverse iterate over all values in ii.  If a value is the same as the previous, remove this row\n",
    "    for idx in range(len(ii)-1,0,-1):\n",
    "        if(ii[idx] == ii[idx-1]):\n",
    "            ii.remove(ii[idx-1])\n",
    "            del prev_rows[idx-1]\n",
    "            \n",
    "    \n",
    "    # Checking there are more rows than columns; if not, transposing the cost matrix\n",
    "    if len(prev_rows) < len(curr_rows):\n",
    "        n_rows, cc, ii, kk, prev_rows, curr_rows, transposed = calculate_sparse_cost_matrix(curr,prev,thresh)\n",
    "        return n_rows, cc, ii, kk, prev_rows, curr_rows, True\n",
    "    else:\n",
    "        return len(ii)-1, np.array(cc), np.array(ii), kk_np, prev_rows, curr_rows, False\n",
    "                \n",
    "    \n",
    "def calculate_cost(prev_pt,curr_pt,thresh):\n",
    "    # Spatial linking (distance between two points)\n",
    "    dx = (curr_pt.X-prev_pt.X)\n",
    "    dy = (curr_pt.Y-prev_pt.Y)\n",
    "    d = math.sqrt(dx*dx + dy*dy)\n",
    "    \n",
    "    # If the two points are separated by more than the linking threshold, set them to infinity ('inf')\n",
    "    if d > thresh:\n",
    "        d = math.inf\n",
    "    \n",
    "    return d"
   ]
  },
  {
   "cell_type": "markdown",
   "metadata": {},
   "source": [
    "# Running an example for a pair of frames"
   ]
  },
  {
   "cell_type": "code",
   "execution_count": 5,
   "metadata": {},
   "outputs": [
    {
     "name": "stdout",
     "output_type": "stream",
     "text": [
      "Loading coordinates from \" ../data/TestObjectCoordinatesNoHeader.csv \"\n",
      "Loaded data shape:  (13, 6)\n",
      " \n",
      "Prev:\n",
      "      ID           X           Y    T         AREA  INTENSITY  TRACK_ID\n",
      "0  44.0   25.000000  495.000000  0.0  34052.37681       69.0         1\n",
      "1  45.0   44.000000  581.000000  0.0  33118.20725      193.0         2\n",
      "2  46.0   55.960422  513.007916  0.0  33789.78100      379.0         3\n",
      "3  50.0  166.000000  572.000000  0.0  33925.10492      305.0         4\n",
      "4  51.0  168.000000   32.000000  0.0  33395.35556       45.0         5\n",
      "5  49.0  118.000000  468.500000  0.0  33935.66915      402.0         6\n",
      "6  52.0  182.000000  497.000000  0.0  33086.95172      145.0         7\n",
      "7  54.0   25.000000  494.000000  0.0  34052.37681       69.0         8 \n",
      "\n",
      "Curr:\n",
      "      ID           X           Y    T         AREA  INTENSITY  TRACK_ID\n",
      "8   1.0   24.000000  499.000000  1.0  34061.72464       69.0         0\n",
      "9   2.0   44.000000  581.000000  1.0  33106.98446      193.0         0\n",
      "10  3.0   51.209726  516.325228  1.0  33761.68693      329.0         0\n",
      "11  6.0  121.203349  467.595694  1.0  33847.26077      418.0         0\n",
      "12  7.0  166.000000  568.000000  1.0  33848.50820      305.0         0 \n",
      "\n",
      "Sparse costs:\n",
      "n_rows = 6 \n",
      "cc = array([4.123, 0.   , 5.794, 4.   , 3.329, 5.099]) \n",
      "ii = array([0, 1, 2, 3, 4, 5, 6]) \n",
      "kk = array([0, 1, 2, 4, 3, 0]) \n",
      "prev_rows = [0, 1, 2, 3, 5, 7] \n",
      "curr_rows = [8, 9, 10, 11, 12] \n",
      "transposed = False \n",
      "\n",
      "Total cost = inf\n",
      "x = array([5, 1, 2, 4, 3, 0])\n",
      "y = array([5, 1, 2, 4, 3, 0])\n"
     ]
    }
   ],
   "source": [
    "# Setting parameters\n",
    "np.set_printoptions(precision=3,threshold=sys.maxsize)\n",
    "linking_thresh = 10\n",
    "\n",
    "# Loading coordinates\n",
    "path = \"../data/TestObjectCoordinatesNoHeader.csv\"\n",
    "coords = util.load_coordinates(path);\n",
    "\n",
    "# Set new track IDs for each object in the first frame\n",
    "initialise_first_timepoint(coords)\n",
    "\n",
    "frame = 1\n",
    "# Get coordinates from the previous frame\n",
    "prev_coords = get_coordinates(coords,frame-1)\n",
    "    \n",
    "# Get coordinates from the current frame\n",
    "curr_coords = get_coordinates(coords,frame)\n",
    "    \n",
    "print(\"Prev:\\n\",prev_coords,\"\\n\")    \n",
    "print(\"Curr:\\n\",curr_coords,\"\\n\")\n",
    "    \n",
    "# Calculate costs for each possible link    \n",
    "n_rows, cc, ii, kk, prev_rows, curr_rows, transposed = calculate_sparse_cost_matrix(prev_coords,curr_coords,linking_thresh)\n",
    "print(\"Sparse costs:\\nn_rows = %i \\ncc = %a \\nii = %a \\nkk = %a \\nprev_rows = %a \\ncurr_rows = %a \\ntransposed = %s \\n\" \n",
    "          % (n_rows,cc,ii,kk,prev_rows,curr_rows,transposed))\n",
    "    \n",
    "# Calculate assigninments for each\n",
    "opt,x,y = lapmod(n_rows,cc,ii,kk)\n",
    "print(\"Total cost =\",opt)\n",
    "print(\"x = %a\" % x)\n",
    "print(\"y = %a\" % y)"
   ]
  }
 ],
 "metadata": {
  "kernelspec": {
   "display_name": "Python 3",
   "language": "python",
   "name": "python3"
  },
  "language_info": {
   "codemirror_mode": {
    "name": "ipython",
    "version": 3
   },
   "file_extension": ".py",
   "mimetype": "text/x-python",
   "name": "python",
   "nbconvert_exporter": "python",
   "pygments_lexer": "ipython3",
   "version": "3.6.8"
  }
 },
 "nbformat": 4,
 "nbformat_minor": 2
}
