{
 "cells": [
  {
   "cell_type": "markdown",
   "metadata": {},
   "source": [
    "# Testing utility methods\n",
    "(Add information here)\n",
    "________"
   ]
  },
  {
   "cell_type": "markdown",
   "metadata": {},
   "source": [
    "# Importing dependencies"
   ]
  },
  {
   "cell_type": "code",
   "execution_count": 1,
   "metadata": {},
   "outputs": [],
   "source": [
    "import util"
   ]
  },
  {
   "cell_type": "markdown",
   "metadata": {},
   "source": [
    "# Testing image loading"
   ]
  },
  {
   "cell_type": "code",
   "execution_count": 2,
   "metadata": {},
   "outputs": [
    {
     "name": "stdout",
     "output_type": "stream",
     "text": [
      "Loading images from \" ..\\data\\ExampleTimeseries.tif \"\n",
      "Loaded image shape:  (92, 700, 1100)\n",
      "Reordered image shape:  (700, 1100, 92)\n",
      " \n"
     ]
    }
   ],
   "source": [
    "# Testing image loading\n",
    "path = \"..\\\\data\\\\ExampleTimeseries.tif\"\n",
    "util.load_images(path);"
   ]
  },
  {
   "cell_type": "markdown",
   "metadata": {},
   "source": [
    "# Testing coordinate loading"
   ]
  },
  {
   "cell_type": "code",
   "execution_count": 3,
   "metadata": {},
   "outputs": [
    {
     "name": "stdout",
     "output_type": "stream",
     "text": [
      "Loading coordinates from \" ..\\data\\ObjectCoordinatesNoHeader.csv \"\n",
      "Loaded data shape:  (8639, 6)\n",
      " \n"
     ]
    }
   ],
   "source": [
    "# Testing coordinate loading\n",
    "path = \"..\\\\data\\\\ObjectCoordinatesNoHeader.csv\"\n",
    "util.load_coordinates(path);"
   ]
  },
  {
   "cell_type": "markdown",
   "metadata": {},
   "source": [
    "# Testing track renders"
   ]
  },
  {
   "cell_type": "code",
   "execution_count": null,
   "metadata": {},
   "outputs": [
    {
     "data": {
      "text/html": [
       "<style>\n",
       ".output_wrapper button.btn.btn-default,\n",
       ".output_wrapper .ui-dialog-titlebar {\n",
       "  display: none;\n",
       "}\n",
       "</style>\n"
      ],
      "text/plain": [
       "<IPython.core.display.HTML object>"
      ]
     },
     "metadata": {},
     "output_type": "display_data"
    }
   ],
   "source": [
    "%%html\n",
    "<style>\n",
    ".output_wrapper button.btn.btn-default,\n",
    ".output_wrapper .ui-dialog-titlebar {\n",
    "  display: none;\n",
    "}\n",
    "</style>"
   ]
  },
  {
   "cell_type": "code",
   "execution_count": null,
   "metadata": {},
   "outputs": [
    {
     "name": "stdout",
     "output_type": "stream",
     "text": [
      "Loading images from \" ..\\data\\ExampleTimeseries.tif \"\n",
      "Loaded image shape:  (92, 700, 1100)\n",
      "Reordered image shape:  (700, 1100, 92)\n",
      " \n",
      "Loading coordinates from \" ..\\data\\TrackedCoordinatesNoHeader.csv \"\n",
      "Loaded data shape:  (8639, 5)\n",
      " \n",
      "Rendering frame 76 of 92"
     ]
    }
   ],
   "source": [
    "%matplotlib notebook\n",
    "\n",
    "# Loading image\n",
    "path = \"..\\\\data\\\\ExampleTimeseries.tif\"\n",
    "image = util.load_images(path)\n",
    "\n",
    "# Loading track coordinates\n",
    "path = \"..\\\\data\\\\TrackedCoordinatesNoHeader.csv\"\n",
    "coords = util.load_coordinates(path);\n",
    "\n",
    "# Adding track renders\n",
    "util.show_overlay(image,coords)"
   ]
  }
 ],
 "metadata": {
  "kernelspec": {
   "display_name": "Python 3",
   "language": "python",
   "name": "python3"
  },
  "language_info": {
   "codemirror_mode": {
    "name": "ipython",
    "version": 3
   },
   "file_extension": ".py",
   "mimetype": "text/x-python",
   "name": "python",
   "nbconvert_exporter": "python",
   "pygments_lexer": "ipython3",
   "version": "3.7.3"
  }
 },
 "nbformat": 4,
 "nbformat_minor": 2
}
