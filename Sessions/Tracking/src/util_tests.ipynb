{
 "cells": [
  {
   "cell_type": "markdown",
   "metadata": {},
   "source": [
    "# Testing utility methods\n",
    "(Add information here)\n",
    "________"
   ]
  },
  {
   "cell_type": "markdown",
   "metadata": {},
   "source": [
    "# Importing dependencies"
   ]
  },
  {
   "cell_type": "code",
   "execution_count": 11,
   "metadata": {},
   "outputs": [],
   "source": [
    "import util"
   ]
  },
  {
   "cell_type": "markdown",
   "metadata": {},
   "source": [
    "# Testing image loading"
   ]
  },
  {
   "cell_type": "code",
   "execution_count": 5,
   "metadata": {},
   "outputs": [
    {
     "name": "stdout",
     "output_type": "stream",
     "text": [
      "Loading images from \" ..\\data\\ExampleTimeseries.tif \"\n",
      "Loaded image shape:  (92, 700, 1100)\n",
      "Reordered image shape:  (700, 1100, 92)\n"
     ]
    }
   ],
   "source": [
    "# Testing image loading\n",
    "path = \"..\\\\data\\\\ExampleTimeseries.tif\"\n",
    "util.load_images(path);"
   ]
  },
  {
   "cell_type": "markdown",
   "metadata": {},
   "source": [
    "# Testing coordinate loading"
   ]
  },
  {
   "cell_type": "code",
   "execution_count": 6,
   "metadata": {},
   "outputs": [
    {
     "name": "stdout",
     "output_type": "stream",
     "text": [
      "Loading coordinates from \" ..\\data\\ObjectCoordinatesNoHeader.csv \"\n",
      "Loaded data shape:  (8639, 6)\n"
     ]
    }
   ],
   "source": [
    "# Testing coordinate loading\n",
    "path = \"..\\\\data\\\\ObjectCoordinatesNoHeader.csv\"\n",
    "util.load_coordinates(path);"
   ]
  },
  {
   "cell_type": "markdown",
   "metadata": {},
   "source": [
    "# Testing track renders"
   ]
  },
  {
   "cell_type": "code",
   "execution_count": 9,
   "metadata": {},
   "outputs": [
    {
     "name": "stdout",
     "output_type": "stream",
     "text": [
      "Loading images from \" ..\\data\\ExampleTimeseries.tif \"\n",
      "Loaded image shape:  (92, 700, 1100)\n",
      "Reordered image shape:  (700, 1100, 92)\n",
      "Loading coordinates from \" ..\\data\\TrackedCoordinatesNoHeader.csv \"\n",
      "Loaded data shape:  (8639, 5)\n"
     ]
    },
    {
     "ename": "AttributeError",
     "evalue": "module 'util' has no attribute 'draw_tracks'",
     "output_type": "error",
     "traceback": [
      "\u001b[1;31m---------------------------------------------------------------------------\u001b[0m",
      "\u001b[1;31mAttributeError\u001b[0m                            Traceback (most recent call last)",
      "\u001b[1;32m<ipython-input-9-d30b626425cb>\u001b[0m in \u001b[0;36m<module>\u001b[1;34m\u001b[0m\n\u001b[0;32m      8\u001b[0m \u001b[1;33m\u001b[0m\u001b[0m\n\u001b[0;32m      9\u001b[0m \u001b[1;31m# Adding track renders\u001b[0m\u001b[1;33m\u001b[0m\u001b[1;33m\u001b[0m\u001b[1;33m\u001b[0m\u001b[0m\n\u001b[1;32m---> 10\u001b[1;33m \u001b[0mutil\u001b[0m\u001b[1;33m.\u001b[0m\u001b[0mdraw_tracks\u001b[0m\u001b[1;33m(\u001b[0m\u001b[0mimage\u001b[0m\u001b[1;33m,\u001b[0m\u001b[0mcoords\u001b[0m\u001b[1;33m)\u001b[0m\u001b[1;33m\u001b[0m\u001b[1;33m\u001b[0m\u001b[0m\n\u001b[0m",
      "\u001b[1;31mAttributeError\u001b[0m: module 'util' has no attribute 'draw_tracks'"
     ]
    }
   ],
   "source": [
    "# Loading image timeseries\n",
    "path = \"..\\\\data\\\\ExampleTimeseries.tif\"\n",
    "image = util.load_images(path)\n",
    "\n",
    "# Loading track coordinates\n",
    "path = \"..\\\\data\\\\TrackedCoordinatesNoHeader.csv\"\n",
    "coords = util.load_coordinates(path);\n",
    "\n",
    "# Adding track renders\n",
    "util.draw_tracks(image,coords)"
   ]
  },
  {
   "cell_type": "code",
   "execution_count": null,
   "metadata": {},
   "outputs": [],
   "source": []
  },
  {
   "cell_type": "code",
   "execution_count": null,
   "metadata": {},
   "outputs": [],
   "source": []
  }
 ],
 "metadata": {
  "kernelspec": {
   "display_name": "Python 3",
   "language": "python",
   "name": "python3"
  },
  "language_info": {
   "codemirror_mode": {
    "name": "ipython",
    "version": 3
   },
   "file_extension": ".py",
   "mimetype": "text/x-python",
   "name": "python",
   "nbconvert_exporter": "python",
   "pygments_lexer": "ipython3",
   "version": "3.7.3"
  }
 },
 "nbformat": 4,
 "nbformat_minor": 2
}
