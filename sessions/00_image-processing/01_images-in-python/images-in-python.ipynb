{
 "cells": [
  {
   "cell_type": "markdown",
   "metadata": {
    "slideshow": {
     "slide_type": "slide"
    }
   },
   "source": [
    "# Images in Python\n",
    "\n",
    "## IAFIG-RMS Bioimage Analysis with Python course\n",
    "\n",
    "**Monday 2019-12-09 1000--1130**"
   ]
  },
  {
   "cell_type": "markdown",
   "metadata": {
    "slideshow": {
     "slide_type": "fragment"
    }
   },
   "source": [
    "*... with a coffee break!*"
   ]
  },
  {
   "cell_type": "markdown",
   "metadata": {
    "slideshow": {
     "slide_type": "slide"
    }
   },
   "source": [
    "## Aim\n",
    "\n",
    "To revise key concepts of digital image processing and make connections to counterpart concepts in Python.\n",
    "\n",
    "*Note: We will go through a lot of concepts quite quickly in this session. However, you should know all of them and the point of this session is to make links between what you know and introduce you to Python packages and conventions that we will use throughout the course.*"
   ]
  },
  {
   "cell_type": "markdown",
   "metadata": {
    "slideshow": {
     "slide_type": "subslide"
    }
   },
   "source": [
    "## ILOs\n",
    "\n",
    "* [x] Describe how NumPy arrays and dtypes relate to features of digital images\n",
    "* [ ] Be able to read/write multidimensional image stacks to/from NumPy arrays and multi-page TIFF files\n",
    "* [ ] Be able to subsample your image using NumPy array smart indexing\n",
    "* [ ] Extract and plot a histogram of a multidimensional image"
   ]
  },
  {
   "cell_type": "markdown",
   "metadata": {
    "slideshow": {
     "slide_type": "slide"
    }
   },
   "source": [
    "## Digital Images c.f. NumPy Arrays"
   ]
  },
  {
   "cell_type": "markdown",
   "metadata": {
    "slideshow": {
     "slide_type": "slide"
    }
   },
   "source": [
    "### What is a Digital Image?\n",
    "\n",
    "![Digital images are arrays or matrices of pixels (or voxels) - i.e. numbers.](./assets/digitalimage.png)"
   ]
  },
  {
   "cell_type": "markdown",
   "metadata": {
    "slideshow": {
     "slide_type": "notes"
    }
   },
   "source": [
    "* Digital images are arrays or matrices of pixels - i.e. numbers.\n",
    "* In a greyscale image, each of these numbers in the greyvalue.\n",
    "* We can navigate an image by using row and column numbers to extract a single pixel value.\n",
    "* People use two coordinate systems for this: $i$ & $j$ or $x$ and $y$.\n",
    "* We will use $x$ for rows and $y$ for columns throughout this course. $x=0, y=0$ is the top left corner of the image."
   ]
  },
  {
   "cell_type": "markdown",
   "metadata": {
    "slideshow": {
     "slide_type": "subslide"
    }
   },
   "source": [
    "### What is a NumPy Array?"
   ]
  },
  {
   "cell_type": "code",
   "execution_count": null,
   "metadata": {
    "slideshow": {
     "slide_type": "fragment"
    }
   },
   "outputs": [],
   "source": [
    "import numpy as np\n",
    "\n",
    "# Create an array of random values between 0 and 8 (exclusive)\n",
    "# The array has ten rows and fifteen columns\n",
    "\n",
    "rows = 10\n",
    "columns = 15\n",
    "myArray = np.random.randint(8,size=(rows,columns))\n",
    "\n",
    "display(myArray)"
   ]
  },
  {
   "cell_type": "code",
   "execution_count": null,
   "metadata": {
    "slideshow": {
     "slide_type": "subslide"
    }
   },
   "outputs": [],
   "source": [
    "# Extract the element value at x=5 and y=6\n",
    "\n",
    "x = 5\n",
    "y = 4\n",
    "display(myArray[x,y])"
   ]
  },
  {
   "cell_type": "code",
   "execution_count": 10,
   "metadata": {
    "slideshow": {
     "slide_type": "subslide"
    }
   },
   "outputs": [
    {
     "data": {
      "application/vnd.jupyter.widget-view+json": {
       "model_id": "48494539161f49b590ed29c22d9b3d1b",
       "version_major": 2,
       "version_minor": 0
      },
      "text/plain": [
       "Canvas(toolbar=Toolbar(toolitems=[('Home', 'Reset original view', 'home', 'home'), ('Back', 'Back to previous …"
      ]
     },
     "metadata": {},
     "output_type": "display_data"
    }
   ],
   "source": [
    "import matplotlib.pyplot as plt\n",
    "%matplotlib widget\n",
    "import seaborn as sns; sns.set()\n",
    "\n",
    "f,axes = plt.subplots(1,2)\n",
    "(aMPL, aSNS) = axes.flatten()\n",
    "\n",
    "# Display array as greyscale image\n",
    "aMPL.imshow(myArray, cmap=\"gray\")  # We discuss colourmaps (cmaps, LUTs) below\n",
    "aMPL.set_axis_off()  # This turns axes off\n",
    "aMPL.set_title(\"Greyscale Image...\")\n",
    "\n",
    "# Display array as heatmap\n",
    "sns.heatmap(myArray,cmap=\"viridis\",square=True,annot=True,ax=aSNS)\n",
    "aSNS.set_ylim(0,10)  # Note that x and y are swapped for display\n",
    "aSNS.set_title(\"... as Heatmap\")\n",
    "\n",
    "plt.show()\n",
    "\n",
    "# Note that both of these autoscale (like ImageJ).\n",
    "# This doesn't affect the underlying array"
   ]
  },
  {
   "cell_type": "markdown",
   "metadata": {
    "slideshow": {
     "slide_type": "notes"
    }
   },
   "source": [
    "* In Python, NumPy Arrays are arrays or matrices of numbers, as such we can use arrays to represent digital images.\n",
    "* For the representation of a greyscale image, we would use an array with as many rows and columns as the each of these numbers in the greyvalue.\n",
    "* We can navigate an array by using row and column numbers to extract a single element - this is called indexing.\n",
    "* Don't forget that Python starts counting at $0$ and not at $1$\n",
    "* As with digital images, we will use $x$ for rows and $y$ for columns throughout this course. $x=0, y=0$ is the top left corner of the array."
   ]
  },
  {
   "cell_type": "markdown",
   "metadata": {
    "slideshow": {
     "slide_type": "subslide"
    }
   },
   "source": [
    "### Colour Digital Images\n",
    "\n",
    "![Colour images have multiple 'channels.'](./assets/colourimage.png)"
   ]
  },
  {
   "cell_type": "markdown",
   "metadata": {
    "slideshow": {
     "slide_type": "notes"
    }
   },
   "source": [
    "* Colour images have multiple 'channels.\n",
    "* In photography and monitors/screens three such channels represent RGB.\n",
    "* In microscopy we can have any number of channels, each representing a different spectral band, i.e. a different fluorphore."
   ]
  },
  {
   "cell_type": "markdown",
   "metadata": {
    "slideshow": {
     "slide_type": "slide"
    }
   },
   "source": [
    "### 'Colour' NumPy Arrays?"
   ]
  },
  {
   "cell_type": "code",
   "execution_count": 11,
   "metadata": {},
   "outputs": [
    {
     "name": "stdout",
     "output_type": "stream",
     "text": [
      "Red:\n"
     ]
    },
    {
     "data": {
      "text/plain": [
       "array([[1, 0, 5, 7, 2, 3, 2, 0, 6, 7, 4, 3, 5, 5, 1],\n",
       "       [7, 6, 7, 5, 1, 6, 0, 0, 0, 3, 6, 7, 6, 0, 3],\n",
       "       [6, 3, 5, 7, 4, 5, 7, 5, 1, 2, 5, 7, 5, 7, 7],\n",
       "       [3, 7, 7, 0, 2, 6, 3, 3, 6, 0, 6, 4, 2, 2, 2],\n",
       "       [7, 1, 1, 4, 3, 6, 2, 3, 7, 2, 2, 7, 7, 0, 6],\n",
       "       [3, 6, 1, 5, 6, 3, 7, 6, 5, 7, 1, 1, 6, 2, 1],\n",
       "       [4, 7, 1, 3, 2, 1, 2, 3, 3, 4, 0, 6, 1, 0, 2],\n",
       "       [5, 7, 2, 0, 7, 0, 1, 1, 2, 2, 7, 2, 2, 4, 4],\n",
       "       [6, 5, 4, 5, 7, 7, 5, 6, 7, 4, 3, 4, 4, 3, 7],\n",
       "       [2, 2, 7, 6, 7, 0, 2, 2, 0, 0, 7, 1, 1, 2, 0]])"
      ]
     },
     "metadata": {},
     "output_type": "display_data"
    }
   ],
   "source": [
    "# Create a 3-channel array of random values between 0 and 8 (exclusive)\n",
    "# The array has ten rows and fifteen columns\n",
    "\n",
    "rows = 10\n",
    "columns = 15\n",
    "channels = 3\n",
    "myRGBArray = np.random.randint(8,size=(rows,columns,channels))\n",
    "\n",
    "print(\"Red:\")\n",
    "display(myRGBArray[:,:,0])"
   ]
  },
  {
   "cell_type": "code",
   "execution_count": 12,
   "metadata": {
    "slideshow": {
     "slide_type": "subslide"
    }
   },
   "outputs": [
    {
     "data": {
      "application/vnd.jupyter.widget-view+json": {
       "model_id": "129eab18641f456d80f0203dc027cb92",
       "version_major": 2,
       "version_minor": 0
      },
      "text/plain": [
       "Canvas(toolbar=Toolbar(toolitems=[('Home', 'Reset original view', 'home', 'home'), ('Back', 'Back to previous …"
      ]
     },
     "metadata": {},
     "output_type": "display_data"
    }
   ],
   "source": [
    "f, axes = plt.subplots(2,2)  # Create four subplots (2x2 grid)\n",
    "(aR, aG, aB, aRGB) = axes.flatten()\n",
    "\n",
    "aR.imshow(myRGBArray[:,:,0], cmap=\"gray\")  # Displaying individual channels in grey prevents false highlighting of areas\n",
    "aR.set_axis_off()\n",
    "aR.set_title(\"Red Channel\")\n",
    "\n",
    "aG.imshow(myRGBArray[:,:,1], cmap=\"gray\")\n",
    "aG.set_axis_off()\n",
    "aG.set_title(\"Green Channel\")\n",
    "\n",
    "aB.imshow(myRGBArray[:,:,2], cmap=\"gray\")\n",
    "aB.set_axis_off()\n",
    "aB.set_title(\"Blue Channel\")\n",
    "\n",
    "aRGB.imshow(myRGBArray/8)  # Matlab expects values between 0 and 1 or 0 and 255 (see bit-depth below)\n",
    "aRGB.set_axis_off()\n",
    "aRGB.set_title(\"Composite\")\n",
    "\n",
    "plt.show()"
   ]
  },
  {
   "cell_type": "markdown",
   "metadata": {
    "slideshow": {
     "slide_type": "notes"
    }
   },
   "source": [
    "* NumPy arrays can have more than two dimensions ($x$ and $y$).\n",
    "* If you're doing a lot of computation, it's conventional to represent channels in the first dimension, as this is quicker for access.\n",
    "* $x$ and $y$ then become the second and third dimensions, respectively.\n",
    "* However, `matplotlib` expects colour to be the third dimension (and $x$ and $y$ to the be the first and second.\n",
    "* We will use `matplotlib`'s convention."
   ]
  },
  {
   "cell_type": "markdown",
   "metadata": {
    "slideshow": {
     "slide_type": "subslide"
    }
   },
   "source": [
    "### Spatial Sampling (2D)\n",
    "\n",
    "![The number of pixels in in a image denote the resolution.](./assets/resolution.png)"
   ]
  },
  {
   "cell_type": "markdown",
   "metadata": {
    "slideshow": {
     "slide_type": "notes"
    }
   },
   "source": [
    "* The number of pixels in in a image denote the resolution.\n",
    "* Each pixel will represent a physical size, e.g. $3 \\mu m \\times 3 \\mu m$ (also often call resolution)\n",
    "* [In a Nyquist sampled system], the pixel size and resolution give you all the necessary information about spatial quantisation in your system."
   ]
  },
  {
   "cell_type": "markdown",
   "metadata": {
    "slideshow": {
     "slide_type": "subslide"
    }
   },
   "source": [
    "### Intensity Sampling\n",
    "\n",
    "![The bit-depth of an image describes the dynamic range of a pixel, i.e. the difference between the minimum and maximum pixel values.](./assets/bitdepth.png)"
   ]
  },
  {
   "cell_type": "markdown",
   "metadata": {
    "slideshow": {
     "slide_type": "notes"
    }
   },
   "source": [
    "* The bit-depth of an image describes the dynamic range of a pixel, i.e. the difference between the minimum and maximum pixel values.\n",
    "* Most DSLR cameras will use 8-bit for greyscale images and 3x8-bit (24-bit) for colour images.\n",
    "* Most scientific cameras will use 12-bit or 16-bit. (Both will appear to be 16-bit due to the holder files.)\n",
    "* Most video drivers are set to 8-bit and so 8-bit and 16-bit images can appear the same - but, don't panic, the computer can still see all that extra information.\n",
    "* Up to 16-bit, computers use integers to represent pixel values; however, 32 and 64-bit images will likely use floats (continous numbers with decimal points). Each has its benefits."
   ]
  },
  {
   "cell_type": "markdown",
   "metadata": {
    "slideshow": {
     "slide_type": "slide"
    }
   },
   "source": [
    "## Look-Up Tables (LUTs) and Composites\n",
    "\n",
    "![Pixel values can be visualised with a range of different colours.](./assets/LUTs.png)"
   ]
  },
  {
   "cell_type": "markdown",
   "metadata": {
    "slideshow": {
     "slide_type": "notes"
    }
   },
   "source": [
    "* Pixel values can be visualised with a range of different colours.\n",
    "* The 'mapping' from a greyscale value to a colour is done through a Look-Up Table (LUT)\n",
    "* It's important to be aware that there are good and bad LUTs - some, like Jet, are not perceptually uniform and will artificially highlight the yellow-red features."
   ]
  },
  {
   "cell_type": "markdown",
   "metadata": {
    "slideshow": {
     "slide_type": "subslide"
    }
   },
   "source": [
    "![Different channels/colours of an image can be combined to create a composite image.](./assets/composite.png)"
   ]
  },
  {
   "cell_type": "markdown",
   "metadata": {
    "slideshow": {
     "slide_type": "notes"
    }
   },
   "source": [
    "* Different channels/colours of an image can be combined to create a composite image.\n",
    "* We're all used to seeing RGB composite images everyday.\n",
    "* However, in microscopy, we can choose the LUTs used for independent channels giving us greater flexibility.\n",
    "* Bear in mind that some colours, e.g. the ubiquitous red-green pairing, are not colourblind friendly."
   ]
  },
  {
   "cell_type": "markdown",
   "metadata": {
    "slideshow": {
     "slide_type": "subslide"
    }
   },
   "source": [
    "![Bear in  mind that different composite representations can 'trick' us to think different things.](./assets/colourissues.png)"
   ]
  },
  {
   "cell_type": "markdown",
   "metadata": {
    "slideshow": {
     "slide_type": "notes"
    }
   },
   "source": [
    "* Bear in  mind that different composite representations can 'trick' us to think different things.\n",
    "* As such, we should always investigating the underlying data (pixel values or exracted objects)."
   ]
  },
  {
   "cell_type": "markdown",
   "metadata": {
    "slideshow": {
     "slide_type": "slide"
    }
   },
   "source": [
    "## Spatial Sampling (3D) and Temporal Sampling (+t)\n",
    "\n",
    "ADD DIAGRAM FOR 3D+T ARRAY"
   ]
  },
  {
   "cell_type": "markdown",
   "metadata": {
    "slideshow": {
     "slide_type": "notes"
    }
   },
   "source": [
    "* my notes"
   ]
  },
  {
   "cell_type": "code",
   "execution_count": null,
   "metadata": {
    "slideshow": {
     "slide_type": "subslide"
    }
   },
   "outputs": [],
   "source": [
    "# python example"
   ]
  },
  {
   "cell_type": "markdown",
   "metadata": {
    "slideshow": {
     "slide_type": "notes"
    }
   },
   "source": [
    "* my notes"
   ]
  },
  {
   "cell_type": "markdown",
   "metadata": {
    "slideshow": {
     "slide_type": "slide"
    }
   },
   "source": [
    "## Coffee Break!\n",
    "\n",
    "**Task:** During the break...?"
   ]
  },
  {
   "cell_type": "markdown",
   "metadata": {},
   "source": [
    "## Input/Output"
   ]
  },
  {
   "cell_type": "markdown",
   "metadata": {},
   "source": [
    "## Cropping & Subsampling vs. Fancy Indexing"
   ]
  },
  {
   "cell_type": "markdown",
   "metadata": {},
   "source": [
    "## Histograms"
   ]
  },
  {
   "cell_type": "code",
   "execution_count": null,
   "metadata": {},
   "outputs": [],
   "source": []
  }
 ],
 "metadata": {
  "kernelspec": {
   "display_name": "Python 3",
   "language": "python",
   "name": "python3"
  },
  "language_info": {
   "codemirror_mode": {
    "name": "ipython",
    "version": 3
   },
   "file_extension": ".py",
   "mimetype": "text/x-python",
   "name": "python",
   "nbconvert_exporter": "python",
   "pygments_lexer": "ipython3",
   "version": "3.7.4"
  }
 },
 "nbformat": 4,
 "nbformat_minor": 4
}
