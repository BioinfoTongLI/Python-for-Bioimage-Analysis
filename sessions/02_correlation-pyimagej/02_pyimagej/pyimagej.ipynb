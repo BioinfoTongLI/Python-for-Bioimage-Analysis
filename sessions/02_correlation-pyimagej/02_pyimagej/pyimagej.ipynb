{
 "cells": [
  {
   "cell_type": "markdown",
   "metadata": {
    "slideshow": {
     "slide_type": "slide"
    }
   },
   "source": [
    "# Accessing ImageJ from Python Notebooks\n",
    "\n",
    "**Part of the IAFIG-RMS *Python for Bioimage Analysis* Course.**\n",
    "\n",
    "*Dr Chas Nelson* (based loosely on https://github.com/imagej/tutorials)\n",
    "\n",
    "2019-12-11 1100--1230"
   ]
  },
  {
   "cell_type": "markdown",
   "metadata": {
    "slideshow": {
     "slide_type": "slide"
    }
   },
   "source": [
    "## Aim\n",
    "\n",
    "To introduce the `pyimagej` module and complete a basic pipeline using ImageJ functions."
   ]
  },
  {
   "cell_type": "markdown",
   "metadata": {
    "slideshow": {
     "slide_type": "subslide"
    }
   },
   "source": [
    "## ILOs\n",
    "\n",
    "* Be able to use `pyimagej` to access an ImageJ instance and the ImageJ Server API\n",
    "* Be able to load and retreive data from ImageJ [Server] instances\n",
    "* Be able to run ImageJ functions, scripts and plugins on image objects\n",
    "* Appreciate that GPU-accelaration is possible through the use of `clijpy`\n",
    "* Understand that python-ImageJ interfaces are all at an experimental stage but that they could be powerful additions to a pipeline."
   ]
  },
  {
   "cell_type": "markdown",
   "metadata": {},
   "source": [
    "## Data\n",
    "\n",
    "The image we will use for the rest of this tutorial is from the Broad Bioimage Benchmark Collection data set BBBC0034v1 (https://data.broadinstitute.org/bbbc/; Thirstrup et al. 2018).\n",
    "\n",
    "See https://data.broadinstitute.org/bbbc/BBBC034/ for the full description; however, the key points are:\n",
    "\n",
    "* $1024 \\times 1024 \\times 52$ pixels\n",
    "* $65 \\times 65 \\times 290$ nm/pixel\n",
    "* 4 channels (each stored as separate files):\n",
    "  * Cell membrane label (C=0)\n",
    "  * Actin label (C=1)\n",
    "  * DNA label (C=2)\n",
    "  * Brightfield image (C=3)\n",
    "  \n",
    "The below cell can be run to create a local link to the data that we downloaded on the first day of the course. You only need to run this cell once and then you may comment it out."
   ]
  },
  {
   "cell_type": "code",
   "execution_count": null,
   "metadata": {},
   "outputs": [],
   "source": [
    "import os\n",
    "from skimage import io\n",
    "\n",
    "os.mkdirs('./assets',exist_ok=True)  # make folder (even if exists)\n",
    "os.symlink('../../../00_image-processing/01_images-in-python/assets/bbbc034v1/','./assets/bbbc034v1')\n",
    "\n",
    "# Create a file with a single slice (we will use this later)\n",
    "np_channel1 = io.imread('./assets/bbbc034v1/AICS_12_134_C=1.tif')\n",
    "io.imsave('./assets/bbbc034v1/AICS_12_134_C=1_s=26.tif',np_channel1[26,:,:])"
   ]
  },
  {
   "cell_type": "markdown",
   "metadata": {},
   "source": [
    "## Combining ImageJ and Python\n",
    "\n",
    "Many of us are already well versed on how to process images with ImageJ, so why relearn all of these tasks in Python? Python implementations might use different parameters or different underlying algorithsm (in fact, this is even true between packages). However, fear not, `pyimagej` provides a way of interacting with ImageJ and FIJI plug-ins from within a Python environment.\n",
    "\n",
    "A further advantage of this approach is the ability to combine ImageJ and FIJI algorithms with other Python tools, such as NumPy, SciPy, scikit-image and more."
   ]
  },
  {
   "cell_type": "markdown",
   "metadata": {},
   "source": [
    "## Starting ImageJ\n",
    "\n",
    "* Unlike other Python modules, which provide a set of functions, `pyimagej` provides an object - an ImageJ instance.\n",
    "* This instance can be passed in data, e.g. image; can run internal functions (through a method-like format); and has additional options to output data.\n",
    "* Note: for this notebook we will use a local copy of FIJI (2.0.0-rc-69/1.52p) that has the Server update URL enabled."
   ]
  },
  {
   "cell_type": "code",
   "execution_count": null,
   "metadata": {},
   "outputs": [],
   "source": [
    "import scyjava_config\n",
    "import imagej\n",
    "\n",
    "# Set Java Maximum Heap Memory to 12 GB\n",
    "scyjava_config.add_options('-Xmx12g')\n",
    "\n",
    "# Initialiase a specific version of ImageJ with FIJI plug-ins\n",
    "# This is reproducible for all notebook users (but doesn't have everything)\n",
    "# ij = imagej.init('sc.fiji:fiji:2.0.0-pre-10', headless=False)\n",
    "\n",
    "# Initialiase a local version of ImageJ with FIJI plug-ins\n",
    "# This is reproducible for each user but not necesarily across computers (but has extras)\n",
    "ij = imagej.init('/home/chas/Fiji.app', headless=False)"
   ]
  },
  {
   "cell_type": "code",
   "execution_count": null,
   "metadata": {},
   "outputs": [],
   "source": [
    "print(ij.getVersion())  # get ImageJ version\n",
    "print(ij.getApp().getInfo(True))  # get ImageJ version, Java version and heap memory info"
   ]
  },
  {
   "cell_type": "markdown",
   "metadata": {},
   "source": [
    "## Converting to/from NumPy to Java\n",
    "\n",
    "* So far we've dealt with images stored as NumPy arrays; however, ImageJ is a Java-based environment and we need to convert between Python/NumPy data types and Java/ImageJ equivalents.\n",
    "* We do this by creating a Java object that 'points' to the underlying NumPy array using `ij.py_to_java()`.\n",
    "  * This means that changing the Java object alters the underlying Numpy data too (in place).\n",
    "* Converted NumPy arrays are of Java type `RandomAccessibleInterval` and can also work in place of `IterableInterval` types."
   ]
  },
  {
   "cell_type": "markdown",
   "metadata": {},
   "source": [
    "<div style=\"background-color:#abd9e9; border-radius: 5px; padding: 10pt\"><strong>Task:</strong> Scroll through the output of the previous code cell, i.e. <code>ij.op().help('multiply')</code>. Can you find an available operation suitable for NumPy arrays that have been wrapped as Java objects?</div>"
   ]
  },
  {
   "cell_type": "code",
   "execution_count": null,
   "metadata": {},
   "outputs": [],
   "source": [
    "import numpy as np\n",
    "\n",
    "# Create two NumPy arrays with data\n",
    "arr1 = np.array([[1, 2], [3, 4]])\n",
    "print('Array 1:')\n",
    "display(arr1)\n",
    "arr2 = np.array([[5, 6], [7, 8]])\n",
    "print('Array 2:')\n",
    "display(arr2)\n",
    "\n",
    "# Convert to ImageJ objects\n",
    "j_arr1 = ij.py.to_java(arr1)\n",
    "j_arr2 = ij.py.to_java(arr2)\n",
    "\n",
    "# Create an empty NumPy array (for our outputs)\n",
    "# Takes one parameter (here arr1) for shape and dtype information\n",
    "# Input can be a NumPy array or an ImageJ object\n",
    "arr_output = ij.py.new_numpy_image(arr1)  \n",
    "# Convert to ImageJ object\n",
    "j_arr_output = ij.py.to_java(arr_output)\n",
    "\n",
    "# Multiply our two images together\n",
    "ij.op().run('multiply', j_arr_output, j_arr1, j_arr2)\n",
    "\n",
    "# Display\n",
    "print('Array 1x2:')\n",
    "display(arr_output)"
   ]
  },
  {
   "cell_type": "markdown",
   "metadata": {},
   "source": [
    "* We can convert Java objects into NumPy arrays using `ij.py.from_java()`.\n",
    "  * Note that our NumPy axis convention is to use $z$, $x$, $y$, $\\lambda$ and ImageJ uses $\\lambda$, $x$, $y$, $z$.\n",
    "  * `pyimagej` deals automatically with 3D images/arrays but for colours we need to manually correct axes and dimensions."
   ]
  },
  {
   "cell_type": "code",
   "execution_count": null,
   "metadata": {},
   "outputs": [],
   "source": [
    "%matplotlib widget\n",
    "import matplotlib.pyplot as plt\n",
    "\n",
    "# Open a 3D greyscale image directly in ImageJ (from a previous notebook)\n",
    "ij_channel1 = ij.io().open('./assets/bbbc034v1/AICS_12_134_C=1.tif')\n",
    "\n",
    "# Convert it to a NumPy array\n",
    "np_channel1 = ij.py.from_java(ij_channel1)\n",
    "\n",
    "# Print types and shapes\n",
    "print('ImageJ object is of type: {0};\\tNumPy object is of type: {1}.'.format(type(ij_channel1),type(np_channel1)))\n",
    "# Note how the ImageJ function can work on both the ij and np objects\n",
    "print('ImageJ object is of shape: {0};\\tNumPy object is of shape: {1}.'.format(ij.py.dims(ij_channel1),ij.py.dims(np_channel1)))\n",
    "\n",
    "# Display the a slice of the image\n",
    "f, ax = plt.subplots(1,1)  # Create one subplot (1x1 grid)\n",
    "\n",
    "ax.grid(False)\n",
    "ax.imshow(np_channel1[26,:,:], cmap='gray', interpolation='none')\n",
    "\n",
    "plt.show()"
   ]
  },
  {
   "cell_type": "code",
   "execution_count": null,
   "metadata": {},
   "outputs": [],
   "source": [
    "from skimage import exposure\n",
    "\n",
    "# Open a 3D multichannel image directly in ImageJ (from a previous notebook)\n",
    "ij_allChannels = ij.io().open('./assets/bbbc034v1/AICS_12_134_C=all.tif')\n",
    "\n",
    "# Convert it to a multi-dimensional NumPy array\n",
    "np_allChannels = ij.py.from_java(ij_allChannels)\n",
    "\n",
    "# Print types and shapes\n",
    "print('ImageJ object is of type: {0};\\tNumPy object is of type: {1}.'.format(type(ij_allChannels),type(np_allChannels)))\n",
    "# Note how the ImageJ function can work on both the ij and np objects\n",
    "print('ImageJ object is of shape: {0};\\tNumPy object is of shape: {1}.'.format(ij.py.dims(ij_allChannels),ij.py.dims(np_allChannels)))\n",
    "\n",
    "# Correct axis ordering\n",
    "np_allChannels = np.moveaxis(np_allChannels,1,-1)\n",
    "print('Axes Reordered: NumPy object is of shape: {0}.'.format(ij.py.dims(np_allChannels)))\n",
    "\n",
    "# Rescale each channel independently for visualisation purposes\n",
    "for channel in np.arange(np_allChannels.shape[-1]):\n",
    "    np_allChannels[:,:,:,channel] = exposure.rescale_intensity(np_allChannels[:,:,:,channel],in_range='image',out_range='float64')\n",
    "\n",
    "# Display the a slice of the image mapping the first three channels to RGB\n",
    "f, ax = plt.subplots(1,1)  # Create one subplot (1x1 grid)\n",
    "\n",
    "ax.grid(False)\n",
    "ax.imshow(np_allChannels[26,:,:,:3], interpolation='none')\n",
    "\n",
    "plt.show()"
   ]
  },
  {
   "cell_type": "markdown",
   "metadata": {},
   "source": [
    "## ImageJ Ops\n",
    "\n",
    "* `pyimagej` provides access to everything inside the ImageJ Ops framework\n",
    "* We can get a list of these operations using `pyimagej`'s helpful `help()` function"
   ]
  },
  {
   "cell_type": "code",
   "execution_count": null,
   "metadata": {},
   "outputs": [],
   "source": [
    "# List all Op 'methods', many of which are modules\n",
    "print(ij.op().help())\n",
    "\n",
    "# List all erosion methods and parameters\n",
    "print(ij.op().help('erode'))"
   ]
  },
  {
   "cell_type": "code",
   "execution_count": null,
   "metadata": {},
   "outputs": [],
   "source": [
    "dog_results = ij.py.new_numpy_image(np_allChannels[26,:,:,0])\n",
    "\n",
    "sigma1 = 20\n",
    "sigma2 = 4\n",
    "ij.op().filter().dog(ij.py.to_java(dog_results), ij.py.to_java(np_allChannels[26,:,:,0]), sigma1, sigma2)\n",
    "\n",
    "# Display\n",
    "f, axes = plt.subplots(1,2)  # Create one subplot (1x2 grid)\n",
    "(aO, aD) = axes.flatten()\n",
    "\n",
    "aO.grid(False)\n",
    "aO.imshow(np_allChannels[26,:,:,0], cmap='gray', interpolation='none')\n",
    "\n",
    "aD.grid(False)\n",
    "aD.imshow(dog_results, cmap='gray', interpolation='none')\n",
    "\n",
    "plt.show()"
   ]
  },
  {
   "cell_type": "markdown",
   "metadata": {},
   "source": [
    "<div style=\"background-color:#abd9e9; border-radius: 5px; padding: 10pt\"><strong>Task:</strong> Create a new cell below and, using ImageJ Ops, run Otsu thresholding on the central slice from the DNA channel (channel 2) of our data. Then run morphological closing to tidy the data. Display the original, segmented and closed images.</div>"
   ]
  },
  {
   "cell_type": "markdown",
   "metadata": {},
   "source": [
    "## Running ImageJ Scripts and Plug-ins\n",
    "\n",
    "### Scripts\n",
    "\n",
    "* Often people build up macros and scripts with time, rather than having to rewrite them all for Python, `pyimagej` provides access to the ImageJ server APIs ability to run scripts with `ij.py.run_script`.\n",
    "* Scripts can be in any ImageJ compatible language, e.g. the ImageJ Macro language or Groovy."
   ]
  },
  {
   "cell_type": "markdown",
   "metadata": {},
   "source": [
    "<div style=\"background-color:#abd9e9; border-radius: 5px; padding: 10pt\"><strong>Task:</strong> Modify the cell below with your own name and run the cell.</div>"
   ]
  },
  {
   "cell_type": "code",
   "execution_count": null,
   "metadata": {},
   "outputs": [],
   "source": [
    "language = 'groovy'  # the script language file extension (in this case groovy)\n",
    "script = \"\"\"\n",
    "#@String name\n",
    "#@output String hello\n",
    "hello = \"Hello world! Hello \" + name + \"!\"\n",
    "\"\"\"  # The script, wrapped in triple quotes\n",
    "args = {'name': 'Chas'}  # The input parameters as a dictionary\n",
    "result = ij.py.run_script(language, script, args)\n",
    "print(result.getOutput('hello'))  # get the output object"
   ]
  },
  {
   "cell_type": "markdown",
   "metadata": {},
   "source": [
    "### Plug-ins\n",
    "\n",
    "* Plugins work the same as scripts.\n",
    "* You essentially run the plugin by name and pass the arguments in a dict."
   ]
  },
  {
   "cell_type": "code",
   "execution_count": null,
   "metadata": {},
   "outputs": [],
   "source": [
    "# Load UI and send NumPy Array\n",
    "ij.ui().showUI()\n",
    "np_Slice = np_allChannels[26,:,:,0]\n",
    "ij.ui().show('Image',ij.py.to_java(np_Slice))\n",
    "\n",
    "# Run Plugin\n",
    "plugin = 'Mean'\n",
    "args = { \n",
    "    'block_radius_x': 100,\n",
    "    'block_radius_y': 100\n",
    "}\n",
    "ij.py.run_plugin(plugin, args)\n",
    "\n",
    "# Create a window manager for interacting with the UI\n",
    "windowManager = jnius.autoclass('ij.WindowManager')\n",
    "\n",
    "# Get back data\n",
    "np_SliceBlurred = ij.py.from_java(windowManager.getCurrentImage())\n",
    "display(np.sum(np_Slice-np_SliceBlurred))\n",
    "\n",
    "# Display\n",
    "f, axes = plt.subplots(1,2)  # Create one subplot (1x1 grid)\n",
    "(aO, aM) = axes.flatten()\n",
    "\n",
    "aO.grid(False)\n",
    "aO.imshow(np_allChannels[26,:,:,0], cmap='gray', interpolation='none')\n",
    "\n",
    "aM.grid(False)\n",
    "aM.imshow(np_SliceBlurred, cmap='gray', interpolation='none')\n",
    "\n",
    "plt.show()\n",
    "\n",
    "# Clear ImageJ windows\n",
    "windowManager.closeAllWindows()"
   ]
  },
  {
   "cell_type": "markdown",
   "metadata": {},
   "source": [
    "<div style=\"background-color:#abd9e9; border-radius: 5px; padding: 10pt\"><strong>Task:</strong> Create a new cell below and run a 3D mean filter on the whole stack using an ImageJ instance. How might you work out the parameter names? Display the image with a widget so you can scroll through slices.</div>"
   ]
  },
  {
   "cell_type": "markdown",
   "metadata": {},
   "source": [
    "## Accessing the ImageJ Server API\n",
    "\n",
    "* So far we've used `pyimagej` to access a running instance of ImageJ; however, there is also an in-development system called the ImageJ Server.\n",
    "* The ImageJ Server is an attempt to make a universal API thus making ImageJ for easy to interact with from non-Java language, i.e. Python.\n",
    "* `pyimagej` wraps this API into simple Python function, something we can exploit.\n",
    "* Before we can access the API, we must start the server.\n",
    "  * Go to the open ImageJ UI and follow Plugins>Utilities>Start Server."
   ]
  },
  {
   "cell_type": "code",
   "execution_count": null,
   "metadata": {},
   "outputs": [],
   "source": [
    "# We need to manually get the imagej.server file as it currently isn't included in the module\n",
    "# Comment this out once downloaded\n",
    "import urllib.request\n",
    "url = 'https://raw.githubusercontent.com/imagej/pyimagej/master/imagej/server/server.py'\n",
    "urllib.request.urlretrieve(url,'./server.py')\n",
    "\n",
    "import server as ijserver\n",
    "import json\n",
    "\n",
    "# Start the Server (either graphically or using the following)\n",
    "ij.py.run_script('ijm', 'run(\"Start Server\")')\n",
    "\n",
    "# Initialise server API instance\n",
    "ijs = ijserver.IJ()\n",
    "\n",
    "# Search for a function with a vague term\n",
    "options_create = ijs.find(\"create\")\n",
    "print('Options for the search \"create\":')\n",
    "display(options_create)\n",
    "\n",
    "# Get details of a function with a specific name\n",
    "# Note the inputs, their types and requirements\n",
    "# As well as the outputs\n",
    "createImgFromImgID = ijs.find(\"CreateImgFromImg\")[0]\n",
    "details_createImgFromImg = ijs.detail(createImgFromImgID)\n",
    "print('Details for the function \"CreateImgFromImg\":')\n",
    "print(json.dumps(details_createImgFromImg, indent=4))\n",
    "\n",
    "# Search for an invert function\n",
    "options_invert = ijs.find(\"invert\")\n",
    "print('Options for the search \"invert\":')\n",
    "display(options_invert)\n",
    "\n",
    "invertIIID = ijs.find(\"InvertII\")[0]\n",
    "details_invertII = ijs.detail(invertIIID)\n",
    "print('Details for the function \"InvertII\":')\n",
    "print(json.dumps(details_invertII, indent=4))\n",
    "\n",
    "# # Upload an image (by filename)\n",
    "inputImage = ijs.upload('./assets/bbbc034v1/AICS_12_134_C=1_s=26.tif')\n",
    "\n",
    "# Execute modules\n",
    "result_createImgFromImg = ijs.run(createImgFromImgID, {'in': inputImage})\n",
    "np_createImgFromImg = result_createImgFromImg['out']\n",
    "result_invertII = ijs.run(invertIIID, {'in': inputImage, 'out': np_createImgFromImg})\n",
    "np_invertII = result_invertII['out']\n",
    "\n",
    "# Retrieve images\n",
    "test = ijs.retrieve(np_invertII, format='Tiff', dest='./assets/bbbc034v1/AICS_12_134_C=1_s=26_inverted.tif')\n",
    "\n",
    "# Close IJ windows\n",
    "closeAllID = ijs.find(\"close-all\")[0]\n",
    "ijs.run(closeAllID)\n",
    "\n",
    "# Load into Python\n",
    "np_channel1 = io.imread('./assets/bbbc034v1/AICS_12_134_C=1_s=26.tif')\n",
    "np_channel1_inverted = io.imread('./assets/bbbc034v1/AICS_12_134_C=1_s=26_inverted.tif')\n",
    "print(np_channel1.shape,np_channel1_inverted.shape)\n",
    "\n",
    "# Display\n",
    "f, axes = plt.subplots(1,2)  # Create one subplot (1x1 grid)\n",
    "(aO, aI) = axes.flatten()\n",
    "\n",
    "aO.grid(False)\n",
    "aO.imshow(np_channel1, cmap='gray', interpolation='none')\n",
    "aO.set_title('Original')\n",
    "\n",
    "aI.grid(False)\n",
    "aI.imshow(np_channel1_inverted, cmap='gray', interpolation='none')\n",
    "aI.set_title('Inverted')\n",
    "\n",
    "plt.show()"
   ]
  },
  {
   "cell_type": "markdown",
   "metadata": {},
   "source": [
    "## CLIJPY - Utilising the GPU\n",
    "\n",
    "From https://clij.github.io:\n",
    ">CLIJ is an OpenCL - ImageJ bridge and a Fiji plugin allowing users with entry-level skills in programming to build GPU-accelerated workflows to speed up their image processing.\n",
    "\n",
    "* `CLIJPY` is a python wrapper for `CLIJ` using `pyimagej`.\n",
    "* See https://github.com/clij/clijpy/blob/master/python/clijpy_demo.ipynb for a demo using `clijpy` to threshold and label an image of blobs."
   ]
  },
  {
   "cell_type": "markdown",
   "metadata": {},
   "source": [
    "## Summary\n",
    "\n",
    "* `pyimagej` provides Python-level access an ImageJ instance and the ImageJ Server API\n",
    "* Data can be passed to an ImageJ instance and retrieved from an instance but must be converted between Python and Java types.\n",
    "* ImageJ functions/scripts/plugins can be run through Python - but not all work out of the box.\n",
    "* GPU-accelaration is possible through the use of `clijpy` (not covered in this material).\n",
    "* Python-ImageJ interfaces are all at an experimental stage but that they could be powerful additions to a pipeline."
   ]
  }
 ],
 "metadata": {
  "kernelspec": {
   "display_name": "Python 3",
   "language": "python",
   "name": "python3"
  },
  "language_info": {
   "codemirror_mode": {
    "name": "ipython",
    "version": 3
   },
   "file_extension": ".py",
   "mimetype": "text/x-python",
   "name": "python",
   "nbconvert_exporter": "python",
   "pygments_lexer": "ipython3",
   "version": "3.7.3"
  },
  "toc": {
   "base_numbering": 1,
   "nav_menu": {},
   "number_sections": true,
   "sideBar": true,
   "skip_h1_title": true,
   "title_cell": "Table of Contents",
   "title_sidebar": "Contents",
   "toc_cell": false,
   "toc_position": {
    "height": "calc(100% - 180px)",
    "left": "10px",
    "top": "150px",
    "width": "307px"
   },
   "toc_section_display": true,
   "toc_window_display": false
  },
  "widgets": {
   "application/vnd.jupyter.widget-state+json": {
    "state": {},
    "version_major": 2,
    "version_minor": 0
   }
  }
 },
 "nbformat": 4,
 "nbformat_minor": 4
}
