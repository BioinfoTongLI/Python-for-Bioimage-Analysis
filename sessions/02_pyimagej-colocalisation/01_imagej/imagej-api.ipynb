{
 "cells": [
  {
   "cell_type": "markdown",
   "metadata": {
    "slideshow": {
     "slide_type": "slide"
    }
   },
   "source": [
    "# Incorporating Other Software into Python Notebooks, e.g. ImageJ\n",
    "\n",
    "**Part of the IAFIG-RMS *Python for Bioimage Analysis* Course.**\n",
    "\n",
    "*Dr Chas Nelson* (based on https://github.com/imagej/tutorials)\n",
    "\n",
    "2019-12-11 1000--1150"
   ]
  },
  {
   "cell_type": "markdown",
   "metadata": {
    "slideshow": {
     "slide_type": "slide"
    }
   },
   "source": [
    "## Aim\n",
    "\n",
    "To introduce the considerations requireed for incorporating other image analysis software pipelines into a Python notebook environment."
   ]
  },
  {
   "cell_type": "markdown",
   "metadata": {
    "slideshow": {
     "slide_type": "subslide"
    }
   },
   "source": [
    "## ILOs\n",
    "\n",
    "* Appreciate the challenges of incorporating other software into Python pipelines.\n",
    "* Understand that ImageJ API concept.\n",
    "* Recognise ImageJ API calls in the Java-native Groovy environment."
   ]
  },
  {
   "cell_type": "markdown",
   "metadata": {},
   "source": [
    "## Why Incorporate Other Software\n",
    "\n",
    "* You may with wish to incorporate existing algorithsm or tools that you already use.\n",
    "* You may wish to compare your new Python implementation with an existing tool (to show yours i better).\n",
    "* You might have a colleage that refuses to use anything but FIJI."
   ]
  },
  {
   "cell_type": "markdown",
   "metadata": {},
   "source": [
    "## Challenges of Working With Other Software\n",
    "\n",
    "* Many tools have APIs - infrastructures that allow you to programmatically access features.\n",
    "* However, these could be experimental, poorly documented and/or unsupported.\n",
    "* Worse, if the software your trying to use is written in a substantially different language, e.g. ImageJ and Java, you may need to find (or write) Python-specific wrappers for the Java-friendly API."
   ]
  },
  {
   "cell_type": "markdown",
   "metadata": {},
   "source": [
    "## Working with Experimental Codes\n",
    "\n",
    "* Over the next few hours we will explore how ImageJ operationg an plugins can be called from within a Jupyter Notebook.\n",
    "* This requires us to use layers and layers of experimental, in-development codes.\n",
    "* There's a good chance something might not work.\n",
    "  * And that we won't be able to work out why.\n",
    "* However, we think being exposed to these tools is an important aspect to teach as these packages are being developed and may become powerful tools in the future."
   ]
  },
  {
   "cell_type": "markdown",
   "metadata": {},
   "source": [
    "## Loading an ImageJ Instance\n",
    "\n",
    "* To access the ImageJ API we must first create an ImageJ instance (also called a gateway).\n",
    "* This is essentially a hidden ImageJ that we can programatically control.\n",
    "* The ImageJ instance gives us access to ImageJ Ops and Plugins."
   ]
  },
  {
   "cell_type": "code",
   "execution_count": null,
   "metadata": {},
   "outputs": [],
   "source": [
    "// Initialiase a specific version of ImageJ with FIJI plug-ins\n",
    "// This is reproducible for all notebook users (but doesn't have everything)\n",
    " // %classpath config resolver scijava.public https://maven.scijava.org/content/groups/public\n",
    "// %classpath add mvn sc.fiji fiji 2.0.0-pre-10\n",
    "// %classpath add mvn net.imagej imagej 2.0.0-rc-71\n",
    "\n",
    "// Initialiase a local version of ImageJ with FIJI plug-ins\n",
    "// This is reproducible for each user but not necesarily across computers (but has extras)\n",
    "%classpath add jar '/home/chas/Fiji.app/jars/*'\n",
    "%classpath add jar '/home/chas/Fiji.app/jars/bio-formats/*'\n",
    "%classpath add jar '/home/chas/Fiji.app/plugins/*'\n",
    "\n",
    "// Create an ImageJ gateway.\n",
    "ij = new net.imagej.ImageJ()\n",
    "\"ImageJ v${ij.getVersion()} is ready to go.\""
   ]
  },
  {
   "cell_type": "markdown",
   "metadata": {},
   "source": [
    "## ImageJ Services\n",
    "\n",
    "* The ImageJ instance provide a series of top-levels called 'services'.\n",
    "* Each service provides a group of related tools.\n",
    "* We'll only really use:\n",
    " * `.notebook()`, which provides a set of notebook-related tools,\n",
    " * `.io()`, which provides input/output tools,\n",
    " * `.op()`, which provides access to ImageJ Ops\n",
    " * and `.plugin()`, which provides access to plugins."
   ]
  },
  {
   "cell_type": "code",
   "execution_count": null,
   "metadata": {},
   "outputs": [],
   "source": [
    "// Get list of all services\n",
    "ij.notebook().methods(ij).findAll{ it.get(\"returns\").endsWith(\"Service\") }"
   ]
  },
  {
   "cell_type": "code",
   "execution_count": null,
   "metadata": {},
   "outputs": [],
   "source": [
    "// Identify methods available for an object, here a list\n",
    "myList = [\"quick\", \"brown\", \"fox\"]\n",
    "ij.notebook().methods(myList)"
   ]
  },
  {
   "cell_type": "markdown",
   "metadata": {},
   "source": [
    "## Loading and Saving Data\n",
    "\n",
    "### Loading data"
   ]
  },
  {
   "cell_type": "code",
   "execution_count": null,
   "metadata": {},
   "outputs": [],
   "source": [
    "// Load a remote test image\n",
    "myImageJImage = ij.io().open(\"https://imagej.nih.gov/ij/images/blobs.gif\")"
   ]
  },
  {
   "cell_type": "markdown",
   "metadata": {},
   "source": [
    "### Saving data"
   ]
  },
  {
   "cell_type": "markdown",
   "metadata": {},
   "source": [
    "Similarly, you can use the I/O service to save data to an external destination:"
   ]
  },
  {
   "cell_type": "code",
   "execution_count": null,
   "metadata": {},
   "outputs": [],
   "source": [
    "destPath = \"./assets/blobs.png\"\n",
    "ij.io().save(myImageJImage, destPath)"
   ]
  },
  {
   "cell_type": "markdown",
   "metadata": {},
   "source": [
    "## Plugins, Modules and Scripts\n",
    "\n",
    "* Officially everything in ImageJ is a 'plugin' as it's built upon the SciJava plugin framework.\n",
    "* In reality we can focus on two main types of plugins:\n",
    "  * Module/commands\n",
    "  * And ImageJ scripts"
   ]
  },
  {
   "cell_type": "code",
   "execution_count": null,
   "metadata": {},
   "outputs": [],
   "source": [
    "// Get total number of plugins\n",
    "pluginCount = ij.plugin().getIndex().size()\n",
    "println(\"There are \" + pluginCount + \" plugins available.\")"
   ]
  },
  {
   "cell_type": "code",
   "execution_count": null,
   "metadata": {},
   "outputs": [],
   "source": [
    "// Get complete list of 'plugins'\n",
    "kindCounts = [:]\n",
    "ij.plugin().getPlugins().forEach{plugin ->\n",
    "  kind = plugin.getPluginType().getName()\n",
    "  // Comment the next two lines to show all standard ImageJ Ops\n",
    "  if (kind.startsWith('net.imagej.ops.Ops') || kind.startsWith('net.imagej.ops.features'))\n",
    "    kind = 'net.imagej.ops.Op'\n",
    "  kindCounts.put(kind, kindCounts.getOrDefault(kind, 0) + 1)\n",
    "}\n",
    "// Display number of plugins for each class\n",
    "kindCounts.keySet().sort().stream().map{kind -> [\n",
    "    \"Name\": (kind =~ /\\.[^\\.]*$/)[0][1..-1],\n",
    "    \"Number\": kindCounts.get(kind)\n",
    "]}.collect()"
   ]
  },
  {
   "cell_type": "markdown",
   "metadata": {},
   "source": [
    "* Plugins provide modules that can be called directly from the ImageJ API and usually match a standard ImageJ operation.\n",
    "* Modules written in Java are usually called commands.\n",
    "  * Java commands have advantages in performance, type safety and more.\n",
    "* Modules written in other SciJava languages, e.g. Groovy, are usually called script.\n",
    "  * Scripts have the benefit of being written in the language you already know."
   ]
  },
  {
   "cell_type": "code",
   "execution_count": null,
   "metadata": {},
   "outputs": [],
   "source": [
    "// Define a simple module using Java, i.e. a command\n",
    "// This module takes an input and provides two outputs\n",
    "\n",
    "import org.scijava.ItemIO;\n",
    "import org.scijava.command.Command;\n",
    "import org.scijava.plugin.Parameter;\n",
    "import org.scijava.plugin.Plugin;\n",
    "\n",
    "@Plugin(type = Command.class)\n",
    "public class Hello implements Command {\n",
    "  \n",
    "  @Parameter\n",
    "  private String name;\n",
    "  \n",
    "  @Parameter(type = ItemIO.OUTPUT)\n",
    "  private String greeting;\n",
    "  \n",
    "  @Parameter(type = ItemIO.OUTPUT)\n",
    "  private int length;\n",
    "  \n",
    "  @Override\n",
    "  public void run() {\n",
    "    greeting = \"Hello, \" + name + \"!\";\n",
    "    length = name.length();\n",
    "  }\n",
    "}\n",
    "\n",
    "// Save a reference to the class, for use in the next cell.\n",
    "greetingCommand = Hello.class"
   ]
  },
  {
   "cell_type": "code",
   "execution_count": null,
   "metadata": {},
   "outputs": [],
   "source": [
    "// Run the command\n",
    "inputs = [\"name\": \"John Jacob Jingleheimer Schmidt\"]\n",
    "module = ij.command().run(greetingCommand, true, inputs).get()\n",
    "\n",
    "// Extract outputs\n",
    "[\"greeting\" : module.getOutput(\"greeting\"),\n",
    " \"length\"   : module.getOutput(\"length\")]"
   ]
  },
  {
   "cell_type": "code",
   "execution_count": null,
   "metadata": {},
   "outputs": [],
   "source": [
    "// Write the same module as a script (as a string constant)\n",
    "// It can then be passed to the script service.\n",
    "script = \"\"\"\n",
    "#@input String name\n",
    "#@output String greeting\n",
    "#@output int length\n",
    "greeting = \"Hello, \" + name + \"!\"\n",
    "length = name.length()\n",
    "\"\"\"\n",
    "\n",
    "// Run the script\n",
    "// Note the similarities to commands (above)\n",
    "inputs = [\"name\": \"John Jacob Jingleheimer Schmidt\"]\n",
    "module = ij.script().run(\"greeting.groovy\", script, true, inputs).get();\n",
    "\n",
    "// Extract outputs\n",
    "// Note the similarities to commands (above)\n",
    "[\"greeting\" : module.getOutput(\"greeting\"),\n",
    " \"length\"   : module.getOutput(\"length\")]"
   ]
  },
  {
   "cell_type": "markdown",
   "metadata": {},
   "source": [
    "## Ops\n",
    "\n",
    "* If you scroll back to the list of plugins, you'll notice over 800 Ops.\n",
    "* Ops are the core set of ImageJ processing tools and part of the ImageJ modular framework."
   ]
  },
  {
   "cell_type": "code",
   "execution_count": null,
   "metadata": {},
   "outputs": [],
   "source": [
    "// Get total number of ops (categories)\n",
    "opsCount = ij.op().ops().size()\n",
    "println(\"There are \" + opsCount + \" ops categories available.\")"
   ]
  },
  {
   "cell_type": "code",
   "execution_count": null,
   "metadata": {},
   "outputs": [],
   "source": [
    "import net.imagej.ops.OpUtils\n",
    "opsByNS = [:]\n",
    "ij.op().ops().each{op ->\n",
    "  ns = OpUtils.getNamespace(op)\n",
    "  name = OpUtils.stripNamespace(op)\n",
    "  if (!opsByNS.containsKey(ns)) opsByNS.put(ns, name)\n",
    "  else opsByNS.put(ns, opsByNS.get(ns) + ', ' + name)\n",
    "}\n",
    "opsByNS.put('<global>', opsByNS.remove(null))\n",
    "display(opsByNS)"
   ]
  },
  {
   "cell_type": "code",
   "execution_count": null,
   "metadata": {},
   "outputs": [],
   "source": [
    "// Find available operations with 'gauss' in the name\n",
    "ij.op().help('gauss')"
   ]
  },
  {
   "cell_type": "code",
   "execution_count": null,
   "metadata": {},
   "outputs": [],
   "source": [
    "// Smudge it up horizontally.\n",
    "double[] horizSigmas = [8, 0, 0]\n",
    "myImageJImageHBlur = ij.op().filter().gauss(myImageJImage, horizSigmas)\n",
    "\n",
    "display(myImageJImage)\n",
    "display(myImageJImageHBlur)"
   ]
  },
  {
   "cell_type": "code",
   "execution_count": null,
   "metadata": {},
   "outputs": [],
   "source": [
    "display([\n",
    "    \"geometricMean\": ij.op().stats().geometricMean(myImageJImage).toString(),\n",
    "    \"harmonicMean\": ij.op().stats().harmonicMean(myImageJImage).toString(),\n",
    "    \"kurtosis\": ij.op().stats().kurtosis(myImageJImage).toString(),\n",
    "    \"max\": ij.op().stats().max(myImageJImage).toString(),\n",
    "    \"mean\": ij.op().stats().mean(myImageJImage).toString(),\n",
    "    \"median\": ij.op().stats().median(myImageJImage).toString(),\n",
    "    \"min\": ij.op().stats().min(myImageJImage).toString(),\n",
    "    \"moment1AboutMean\": ij.op().stats().moment1AboutMean(myImageJImage).toString(),\n",
    "    \"moment2AboutMean\": ij.op().stats().moment2AboutMean(myImageJImage).toString(),\n",
    "    \"moment3AboutMean\": ij.op().stats().moment3AboutMean(myImageJImage).toString(),\n",
    "    \"moment4AboutMean\": ij.op().stats().moment4AboutMean(myImageJImage).toString(),\n",
    "    \"size\": ij.op().stats().size(myImageJImage).toString(),\n",
    "    \"skewness\": ij.op().stats().skewness(myImageJImage).toString(),\n",
    "    \"stdDev\": ij.op().stats().stdDev(myImageJImage).toString(),\n",
    "    \"sum\": ij.op().stats().sum(myImageJImage).toString(),\n",
    "    \"sumOfInverses\": ij.op().stats().sumOfInverses(myImageJImage).toString(),\n",
    "    \"sumOfLogs\": ij.op().stats().sumOfLogs(myImageJImage).toString(),\n",
    "    \"sumOfSquares\": ij.op().stats().sumOfSquares(myImageJImage).toString(),\n",
    "    \"variance\": ij.op().stats().variance(myImageJImage).toString()\n",
    "])"
   ]
  },
  {
   "cell_type": "markdown",
   "metadata": {},
   "source": [
    "## Summary\n",
    "\n",
    "* Incorporating other software into Python pipelines has both benefits and challenges.\n",
    "* The ImageJ API and ImageJ instance allow programmatic access to ImageJ commands and scripts.\n",
    "* ImageJ Ops provide the bulk of ImageJ features"
   ]
  }
 ],
 "metadata": {
  "kernelspec": {
   "display_name": "Groovy",
   "language": "groovy",
   "name": "groovy"
  },
  "language_info": {
   "codemirror_mode": "groovy",
   "file_extension": ".groovy",
   "mimetype": "",
   "name": "Groovy",
   "nbconverter_exporter": "",
   "version": "2.5.6"
  },
  "toc": {
   "base_numbering": 1,
   "nav_menu": {},
   "number_sections": true,
   "sideBar": true,
   "skip_h1_title": true,
   "title_cell": "Table of Contents",
   "title_sidebar": "Contents",
   "toc_cell": false,
   "toc_position": {
    "height": "calc(100% - 180px)",
    "left": "10px",
    "top": "150px",
    "width": "307px"
   },
   "toc_section_display": true,
   "toc_window_display": false
  },
  "widgets": {
   "application/vnd.jupyter.widget-state+json": {
    "state": {},
    "version_major": 2,
    "version_minor": 0
   }
  }
 },
 "nbformat": 4,
 "nbformat_minor": 4
}
