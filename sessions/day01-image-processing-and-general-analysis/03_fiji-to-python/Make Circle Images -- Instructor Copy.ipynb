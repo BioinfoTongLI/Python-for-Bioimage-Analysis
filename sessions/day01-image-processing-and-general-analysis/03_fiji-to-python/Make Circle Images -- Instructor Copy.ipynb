{
 "cells": [
  {
   "cell_type": "markdown",
   "metadata": {},
   "source": [
    "\n",
    "\n",
    "# Test image generation using scikit-image\n",
    "## Goal: Make sample image for cell counting in FIJI\n",
    "#### _And review a bit about loops and indexing_\n",
    "\n",
    "***\n",
    "\n",
    "### Steps:\n",
    "    1. Generate blank image matrix\n",
    "    2. Generate circles of random size and position \n",
    "    3. Plot circles on image\n",
    "    4. Save image\n",
    "    \n",
    "***\n",
    "\n"
   ]
  },
  {
   "cell_type": "code",
   "execution_count": 1,
   "metadata": {},
   "outputs": [],
   "source": [
    "#import the needed packages\n",
    "%matplotlib inline  \n",
    "import math\n",
    "import numpy as np\n",
    "import matplotlib.pyplot as plt\n",
    "import random\n",
    "\n"
   ]
  },
  {
   "cell_type": "markdown",
   "metadata": {},
   "source": [
    "### Generate an image matrix of zeros that we will use to plot objects into\n",
    "---"
   ]
  },
  {
   "cell_type": "code",
   "execution_count": 2,
   "metadata": {},
   "outputs": [],
   "source": [
    "#set image size\n",
    "img = np.zeros((1024, 1024, 3), dtype=np.double)  #image is 1024 by 1024 with 3 channels for rgb.  The images \n"
   ]
  },
  {
   "cell_type": "markdown",
   "metadata": {},
   "source": [
    "### We will use sci-kit image to draw circles\n",
    "#### We start with plotting a single circle, then we will plot multiple circles\n",
    "---"
   ]
  },
  {
   "cell_type": "code",
   "execution_count": 3,
   "metadata": {},
   "outputs": [],
   "source": [
    "#import skimage methods\n",
    "from skimage.draw import circle\n"
   ]
  },
  {
   "cell_type": "code",
   "execution_count": null,
   "metadata": {},
   "outputs": [],
   "source": [
    "# create a filled circle.  The function circle requires four variables, (row, column, radius, image shape)\n",
    "# rr, cc are the rows and columns that are the cooridinates for pixels which will be filled by the circle\n",
    "\n",
    "center_row = 512\n",
    "center_column = 512\n",
    "radius=200\n",
    "\n",
    "rr, cc = circle(center_row, center_column, radius, img.shape)\n",
    "img[rr, cc, :] = (1, 1, 1)"
   ]
  },
  {
   "cell_type": "code",
   "execution_count": 5,
   "metadata": {},
   "outputs": [
    {
     "name": "stdout",
     "output_type": "stream",
     "text": [
      "[200] [156]\n"
     ]
    }
   ],
   "source": [
    "#Print out rr,cc and see what they look like\n",
    "#print(rr,cc)\n",
    "print('The number of pixels contained in the circle is: ',len(cc))\n",
    "\n",
    "#How many pixels vs expected?\n",
    "area_image_circle = len(cc)\n",
    "area_expected = np.pi*radius**2\n",
    "\n",
    "difference = area_expected - area_image_circle\n",
    "print('The difference between the expected area of the circle and the actual is:', round(difference,3))\n",
    "\n",
    "percent_difference = (difference/area_expected)*100\n",
    "print('The percent difference between the expected area and the actual is:', round(percent_difference,3))"
   ]
  },
  {
   "cell_type": "code",
   "execution_count": null,
   "metadata": {},
   "outputs": [],
   "source": [
    "#What is image shape?\n",
    "print(img.shape)\n",
    "\n",
    "#How many channels are there?\n",
    "print(img.shape[2])"
   ]
  },
  {
   "cell_type": "code",
   "execution_count": null,
   "metadata": {},
   "outputs": [],
   "source": [
    "#set axes size \n",
    "fig, ax1 = plt.subplots(ncols=1, nrows=1, figsize=(10, 6))  #10 by 6 inch container for the figure\n",
    "ax1.imshow(img)\n",
    "ax1.set_title('Circles')\n",
    "ax1.axis('on')  #Shows the axis, we note that the figure runs with an origin in the upper left corner\n",
    "plt.show()"
   ]
  },
  {
   "cell_type": "markdown",
   "metadata": {},
   "source": [
    "### Experiement: What happens when we go back and change the position of the circle, and replot the image? \n",
    "---\n",
    "\n",
    "\n",
    "\n",
    "\n",
    "\n"
   ]
  },
  {
   "cell_type": "markdown",
   "metadata": {},
   "source": [
    "---"
   ]
  },
  {
   "cell_type": "markdown",
   "metadata": {},
   "source": [
    "---"
   ]
  },
  {
   "cell_type": "markdown",
   "metadata": {},
   "source": [
    "---"
   ]
  },
  {
   "cell_type": "markdown",
   "metadata": {},
   "source": [
    "### Quick review on for loops\n",
    "***"
   ]
  },
  {
   "cell_type": "code",
   "execution_count": 6,
   "metadata": {},
   "outputs": [
    {
     "name": "stdout",
     "output_type": "stream",
     "text": [
      "0\n",
      "1\n",
      "2\n",
      "3\n",
      "4\n",
      "5\n",
      "6\n",
      "7\n",
      "8\n",
      "9\n",
      "Syracuse\n",
      "Utica\n",
      "Rome\n",
      "Ithaca\n",
      "Buffalo\n",
      "Rochester\n",
      "Albany\n",
      "New York\n"
     ]
    }
   ],
   "source": [
    "#can iterate over numbers\n",
    "for x in range(10):\n",
    "    print(x)\n",
    "\n",
    "    \n",
    "#can iterate over objects in a list\n",
    "list_of_cities = ['Syracuse', 'Utica', 'Rome', 'Ithaca', 'Buffalo', 'Rochester','Albany', 'New York']\n",
    "\n",
    "for city in list_of_cities:\n",
    "    print(city)\n",
    "    "
   ]
  },
  {
   "cell_type": "markdown",
   "metadata": {},
   "source": [
    "\n",
    "\n",
    "\n",
    "## Generate circles with random, gaussian distributed sizes\n",
    "---\n",
    "### Looking at the circles before, we need a list of radii, and a list of centers.\n",
    "---\n",
    "#### We can use the _random.gauss_ function to generate our radii, and _random.randrange_ to generate positions for our centers"
   ]
  },
  {
   "cell_type": "code",
   "execution_count": 7,
   "metadata": {},
   "outputs": [
    {
     "data": {
      "text/plain": [
       "[11.185131967746651,\n",
       " 13.163623372645258,\n",
       " 12.603002111163658,\n",
       " 13.719430395774083,\n",
       " 17.88687322964025,\n",
       " 8.130940328930304,\n",
       " 13.652584672832544,\n",
       " 13.057700710464356,\n",
       " 11.465040949883827,\n",
       " 14.538318422678156]"
      ]
     },
     "execution_count": 7,
     "metadata": {},
     "output_type": "execute_result"
    }
   ],
   "source": [
    "#Make random assortment of radii with a gaussian distribution and a given standard deviation\n",
    "\n",
    "random.seed(10)  #seed will give us the same random numbers everytime\n",
    "mu = 15 #mean of the distribution\n",
    "std = 4 #standard deviation of the distribution\n",
    "radii = []\n",
    "\n",
    "#Make a for loop to generate a list of radii\n",
    "\n",
    "for n in range(20):\n",
    "    radii.append(random.gauss(mu, std))\n",
    "\n",
    "#view the first ten entries of the list\n",
    "radii[0:10]"
   ]
  },
  {
   "cell_type": "markdown",
   "metadata": {},
   "source": [
    "### Quick Practical\n",
    "#### List indexing\n",
    "1. How do we index a single entry?  What is the 11th radii in the list?\n",
    "2. How do we slice a list?  Find the 11th through the last entries\n",
    "---"
   ]
  },
  {
   "cell_type": "code",
   "execution_count": 8,
   "metadata": {},
   "outputs": [
    {
     "data": {
      "text/plain": [
       "15.000206414768732"
      ]
     },
     "execution_count": 8,
     "metadata": {},
     "output_type": "execute_result"
    }
   ],
   "source": [
    "#show the 11th entry of radii\n",
    "radii[10]"
   ]
  },
  {
   "cell_type": "code",
   "execution_count": 9,
   "metadata": {},
   "outputs": [
    {
     "data": {
      "text/plain": [
       "[15.000206414768732,\n",
       " 24.885293632641755,\n",
       " 16.207419701326064,\n",
       " 14.97387574912037,\n",
       " 18.47088581054114,\n",
       " 10.813052730993316,\n",
       " 12.596007776264528,\n",
       " 17.21227634655695,\n",
       " 12.992783958306333,\n",
       " 11.062766781598375]"
      ]
     },
     "execution_count": 9,
     "metadata": {},
     "output_type": "execute_result"
    }
   ],
   "source": [
    "#show the list of radii from the 11th to the last entry\n",
    "radii[10:]"
   ]
  },
  {
   "cell_type": "markdown",
   "metadata": {},
   "source": [
    "## Generate coordinates for circle centers"
   ]
  },
  {
   "cell_type": "code",
   "execution_count": null,
   "metadata": {},
   "outputs": [],
   "source": [
    "#Create 20 circle positions\n",
    "centers = []  #initialize empty list for centers\n",
    "\n",
    "buffer = mu+std        #distance we have to be from the edge\n",
    "max_px = img.shape[0]  #number of rows or columns (used a square image)\n",
    "\n",
    "\n",
    "for k in range(20):\n",
    "    center = (random.randrange(buffer, max_px-buffer), random.randrange(buffer, max_px-buffer))\n",
    "    centers.append(center)\n",
    "    "
   ]
  },
  {
   "cell_type": "code",
   "execution_count": 10,
   "metadata": {},
   "outputs": [
    {
     "data": {
      "text/plain": [
       "(721, 329)"
      ]
     },
     "execution_count": 10,
     "metadata": {},
     "output_type": "execute_result"
    }
   ],
   "source": [
    "#Show only the first entry from centers\n",
    "centers[0]"
   ]
  },
  {
   "cell_type": "code",
   "execution_count": 11,
   "metadata": {},
   "outputs": [
    {
     "data": {
      "text/plain": [
       "721"
      ]
     },
     "execution_count": 11,
     "metadata": {},
     "output_type": "execute_result"
    }
   ],
   "source": [
    "#Show only the row value from the first entry\n",
    "centers[0][0]"
   ]
  },
  {
   "cell_type": "code",
   "execution_count": 12,
   "metadata": {},
   "outputs": [
    {
     "data": {
      "text/plain": [
       "20"
      ]
     },
     "execution_count": 12,
     "metadata": {},
     "output_type": "execute_result"
    }
   ],
   "source": [
    "len(centers)  #Find the length of the centers list."
   ]
  },
  {
   "cell_type": "code",
   "execution_count": 13,
   "metadata": {},
   "outputs": [],
   "source": [
    "#reset image to zeros, and blank out the radii and centers lists\n",
    "\n",
    "img = np.zeros((1024, 1024, 3), dtype=np.double)  \n",
    "rr = []\n",
    "cc = []"
   ]
  },
  {
   "cell_type": "markdown",
   "metadata": {},
   "source": [
    "## Practical\n",
    "Using a for loop for the length of the radii or centers list, generate a matrix with the center positions and radii pulled from their respective lists.\n",
    "\n",
    "Should you clear the __img[rr,cc,:]__ list between operations?"
   ]
  },
  {
   "cell_type": "code",
   "execution_count": 14,
   "metadata": {},
   "outputs": [],
   "source": [
    "for k in range(len(centers)):\n",
    "    rr,cc = circle(centers[k][0], centers[k][1], radii[k], img.shape)\n",
    "    img[rr, cc, :] = (1,1,1)"
   ]
  },
  {
   "cell_type": "code",
   "execution_count": 15,
   "metadata": {},
   "outputs": [
    {
     "data": {
      "image/png": "[encoded data removed]",
      "text/plain": [
       "<Figure size 720x432 with 1 Axes>"
      ]
     },
     "metadata": {
      "needs_background": "light"
     },
     "output_type": "display_data"
    }
   ],
   "source": [
    "#set axes size\n",
    "fig, ax1 = plt.subplots(ncols=1, nrows=1, figsize=(10, 6))  #10 by 6 inch container for the figure\n",
    "ax1.imshow(img)\n",
    "ax1.set_title('Model Cells')\n",
    "ax1.axis('on')\n",
    "plt.show()"
   ]
  },
  {
   "cell_type": "markdown",
   "metadata": {},
   "source": [
    "### Saving the image "
   ]
  },
  {
   "cell_type": "code",
   "execution_count": null,
   "metadata": {},
   "outputs": [],
   "source": [
    "plt.imsave('random_circles.tiff', img)  #save the image"
   ]
  },
  {
   "cell_type": "code",
   "execution_count": null,
   "metadata": {},
   "outputs": [],
   "source": []
  },
  {
   "cell_type": "code",
   "execution_count": null,
   "metadata": {},
   "outputs": [],
   "source": [
    "#For more tutorials on more shapes, see https://scikit-image.org/docs/dev/auto_examples/edges/plot_shapes.html#sphx-glr-auto-examples-edges-plot-shapes-py"
   ]
  }
 ],
 "metadata": {
  "kernelspec": {
   "display_name": "Python 3",
   "language": "python",
   "name": "python3"
  },
  "language_info": {
   "codemirror_mode": {
    "name": "ipython",
    "version": 3
   },
   "file_extension": ".py",
   "mimetype": "text/x-python",
   "name": "python",
   "nbconvert_exporter": "python",
   "pygments_lexer": "ipython3",
   "version": "3.7.3"
  }
 },
 "nbformat": 4,
 "nbformat_minor": 2
}
