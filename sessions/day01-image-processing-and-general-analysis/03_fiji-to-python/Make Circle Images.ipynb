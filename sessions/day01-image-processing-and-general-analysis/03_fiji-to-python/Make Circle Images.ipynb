{
 "cells": [
  {
   "cell_type": "markdown",
   "metadata": {},
   "source": [
    "# This is a simple script for making images with circles in them\n",
    "\n",
    "Taken from https://scikit-image.org/docs/dev/auto_examples/edges/plot_shapes.html#sphx-glr-auto-examples-edges-plot-shapes-py\n",
    "\n",
    "Todd Fallesen, Last edit October 3rd 2019\n"
   ]
  },
  {
   "cell_type": "code",
   "execution_count": 1,
   "metadata": {},
   "outputs": [],
   "source": [
    "#import the needed stuff\n",
    "%matplotlib inline  \n",
    "import math\n",
    "import numpy as np\n",
    "import matplotlib.pyplot as plt\n",
    "import random\n",
    "\n"
   ]
  },
  {
   "cell_type": "code",
   "execution_count": 2,
   "metadata": {},
   "outputs": [],
   "source": [
    "#import skimage methods\n",
    "from skimage.draw import circle\n"
   ]
  },
  {
   "cell_type": "code",
   "execution_count": 3,
   "metadata": {},
   "outputs": [],
   "source": [
    "#set image size\n",
    "img = np.zeros((1024, 1024, 3), dtype=np.double)  #image is 1024 by 1024 with 3 channels for rgb\n"
   ]
  },
  {
   "cell_type": "code",
   "execution_count": 4,
   "metadata": {},
   "outputs": [],
   "source": [
    "# create filled circle\n",
    "\n",
    "rr, cc = circle(150, 150, 10, img.shape)\n",
    "img[rr, cc, :] = (1, 1, 1)\n"
   ]
  },
  {
   "cell_type": "code",
   "execution_count": 5,
   "metadata": {},
   "outputs": [
    {
     "data": {
      "image/png": "[encoded data removed]",
      "text/plain": [
       "<Figure size 720x432 with 1 Axes>"
      ]
     },
     "metadata": {
      "needs_background": "light"
     },
     "output_type": "display_data"
    }
   ],
   "source": [
    "#set axes size\n",
    "fig, ax1 = plt.subplots(ncols=1, nrows=1, figsize=(10, 6))  #10 by 6 inch container for the figure\n",
    "ax1.imshow(img)\n",
    "ax1.set_title('No anti-aliasing')\n",
    "ax1.axis('on')\n",
    "plt.show()"
   ]
  },
  {
   "cell_type": "code",
   "execution_count": 23,
   "metadata": {},
   "outputs": [
    {
     "data": {
      "text/plain": [
       "[14.423638681688287,\n",
       " 14.308385598673922,\n",
       " 14.55473655372935,\n",
       " 17.807934900395452,\n",
       " 14.489646864868451,\n",
       " 9.01058634263617,\n",
       " 16.329273376270862,\n",
       " 13.930650086011328,\n",
       " 14.13216526341922,\n",
       " 15.46353914680342,\n",
       " 15.929190947626884,\n",
       " 19.654234746396572,\n",
       " 17.626546027194674,\n",
       " 15.442028709775327,\n",
       " 12.046713590620717,\n",
       " 10.941350530049132,\n",
       " 15.985368780844809,\n",
       " 20.244323308816192,\n",
       " 15.166627455613536,\n",
       " 14.574706824916863]"
      ]
     },
     "execution_count": 23,
     "metadata": {},
     "output_type": "execute_result"
    }
   ],
   "source": [
    "#make random assortment of radii with a gaussian distribution and a given standard deviation\n",
    "random.seed(42)  #seed will give us the same random numbers everytime\n",
    "mu = 15 #mean of the distribution\n",
    "std = 4#standard deviation of the distribution\n",
    "radii = []\n",
    "for n in range(20):\n",
    "    radii.append(random.gauss(mu, std))\n",
    "\n",
    "radii"
   ]
  },
  {
   "cell_type": "code",
   "execution_count": 28,
   "metadata": {},
   "outputs": [
    {
     "data": {
      "text/plain": [
       "[(66, 697),\n",
       " (253, 811),\n",
       " (316, 101),\n",
       " (895, 258),\n",
       " (907, 123),\n",
       " (409, 304),\n",
       " (484, 670),\n",
       " (874, 393),\n",
       " (186, 399),\n",
       " (383, 234),\n",
       " (706, 293),\n",
       " (738, 979),\n",
       " (719, 683),\n",
       " (93, 643),\n",
       " (670, 195),\n",
       " (566, 766),\n",
       " (270, 187),\n",
       " (493, 408),\n",
       " (296, 967),\n",
       " (675, 724)]"
      ]
     },
     "execution_count": 28,
     "metadata": {},
     "output_type": "execute_result"
    }
   ],
   "source": [
    "#create 20 circle positions\n",
    "centers = []\n",
    "\n",
    "for k in range(20):\n",
    "    center = (random.randrange(20, 1000), random.randrange(20, 1000))\n",
    "    centers.append(center)\n",
    "\n",
    "centers"
   ]
  },
  {
   "cell_type": "code",
   "execution_count": 8,
   "metadata": {},
   "outputs": [
    {
     "data": {
      "text/plain": [
       "20"
      ]
     },
     "execution_count": 8,
     "metadata": {},
     "output_type": "execute_result"
    }
   ],
   "source": [
    "len(centers)  #what is the length of the centers list?"
   ]
  },
  {
   "cell_type": "code",
   "execution_count": 30,
   "metadata": {},
   "outputs": [],
   "source": [
    "#reset image\n",
    "img = np.zeros((1024, 1024, 3), dtype=np.double)  #image is 1024 by 1024 with 3 channels for r\n",
    "rr = []\n",
    "cc = []"
   ]
  },
  {
   "cell_type": "code",
   "execution_count": 31,
   "metadata": {},
   "outputs": [],
   "source": [
    "for k in range(len(centers)):\n",
    "    rr,cc = circle(centers[k][0], centers[k][1], radii[k], img.shape)\n",
    "    img[rr, cc, :] = (1,1,1)"
   ]
  },
  {
   "cell_type": "code",
   "execution_count": 32,
   "metadata": {},
   "outputs": [
    {
     "data": {
      "image/png": "[encoded data removed]",
      "text/plain": [
       "<Figure size 720x432 with 1 Axes>"
      ]
     },
     "metadata": {
      "needs_background": "light"
     },
     "output_type": "display_data"
    }
   ],
   "source": [
    "#set axes size\n",
    "fig, ax1 = plt.subplots(ncols=1, nrows=1, figsize=(10, 6))  #10 by 6 inch container for the figure\n",
    "ax1.imshow(img)\n",
    "ax1.set_title('Model Cells')\n",
    "ax1.axis('on')\n",
    "plt.show()"
   ]
  },
  {
   "cell_type": "code",
   "execution_count": 33,
   "metadata": {},
   "outputs": [],
   "source": [
    "plt.imsave('random_circles.tiff', img)  #save the image"
   ]
  }
 ],
 "metadata": {
  "kernelspec": {
   "display_name": "Python 3",
   "language": "python",
   "name": "python3"
  },
  "language_info": {
   "codemirror_mode": {
    "name": "ipython",
    "version": 3
   },
   "file_extension": ".py",
   "mimetype": "text/x-python",
   "name": "python",
   "nbconvert_exporter": "python",
   "pygments_lexer": "ipython3",
   "version": "3.7.3"
  }
 },
 "nbformat": 4,
 "nbformat_minor": 2
}
