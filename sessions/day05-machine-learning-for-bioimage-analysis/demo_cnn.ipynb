{
 "cells": [
  {
   "cell_type": "code",
   "execution_count": 8,
   "metadata": {
    "slideshow": {
     "slide_type": "slide"
    }
   },
   "outputs": [],
   "source": [
    "#This function provides some data as a Pandas dataframe\n",
    "from utils.practice_data import generateBlobsData\n",
    "from utils.practice_data import showBlobs\n",
    "\n",
    "imageDir = './assets/simple_blobs/'\n",
    "#imageDir = './assets/difficult_blobs/' #images not \"segmented\" precisely\n",
    "number_of_samples = 1200\n",
    "image_size = 64# in pixels\n",
    "number_of_classes = 11 #2-6 - normal blobs. 7-11 more difficult\n",
    "problem = generateBlobsData(imageDir, number_of_classes, number_of_samples,image_size,noiseSize=20)"
   ]
  },
  {
   "cell_type": "code",
   "execution_count": 123,
   "metadata": {
    "slideshow": {
     "slide_type": "slide"
    }
   },
   "outputs": [
    {
     "data": {
      "application/vnd.jupyter.widget-view+json": {
       "model_id": "",
       "version_major": 2,
       "version_minor": 0
      },
      "text/plain": [
       "Canvas(toolbar=Toolbar(toolitems=[('Home', 'Reset original view', 'home', 'home'), ('Back', 'Back to previous …"
      ]
     },
     "metadata": {},
     "output_type": "display_data"
    }
   ],
   "source": [
    "%matplotlib widget\n",
    "showBlobs(problem.head(8))"
   ]
  },
  {
   "cell_type": "code",
   "execution_count": 98,
   "metadata": {
    "pycharm": {
     "is_executing": false
    }
   },
   "outputs": [],
   "source": [
    "#Based on Keras MINST dataset classification tutorial TODO link\n",
    "import keras\n",
    "from keras.models import Sequential\n",
    "from keras.layers import Dense, Dropout, Flatten\n",
    "from keras.layers import Conv2D, MaxPooling2D"
   ]
  },
  {
   "cell_type": "code",
   "execution_count": 102,
   "metadata": {
    "collapsed": false,
    "jupyter": {
     "outputs_hidden": false
    },
    "pycharm": {
     "is_executing": false,
     "name": "#%%\n"
    }
   },
   "outputs": [],
   "source": [
    "from sklearn.model_selection import train_test_split\n",
    "import numpy as np\n",
    "x=np.stack(problem['raw_data'])\n",
    "y=np.stack(problem['class'])\n",
    "x_trainval, x_test, y_trainval, y_test = train_test_split(x, y, test_size=0.2, random_state=0)\n",
    "x_train, x_val, y_train, y_val = train_test_split(x_trainval, y_trainval, test_size=0.2, random_state=0)\n",
    "\n",
    "# input image dimensions\n",
    "img_rows, img_cols = x_train.shape[1], x_train.shape[2]"
   ]
  },
  {
   "cell_type": "code",
   "execution_count": 103,
   "metadata": {
    "collapsed": false,
    "jupyter": {
     "outputs_hidden": false
    },
    "pycharm": {
     "is_executing": false,
     "name": "#%%\n"
    }
   },
   "outputs": [
    {
     "name": "stdout",
     "output_type": "stream",
     "text": [
      "Training data shape: (768, 64, 64)\n",
      "Training data shape - ready for processing: (768, 64, 64, 1)\n"
     ]
    }
   ],
   "source": [
    "\n",
    "print('Training data shape:', x_train.shape)\n",
    "#Working with different backends of the same library requires some different pre-processing\n",
    "if keras.backend.image_data_format() == 'channels_first':\n",
    "    display(\"Converting channel order....\")\n",
    "    x_train = x_train.reshape(x_train.shape[0], 1, img_rows, img_cols)\n",
    "    x_val = x_val.reshape(x_val.shape[0], 1, img_rows, img_cols)\n",
    "    x_test = x_test.reshape(x_test.shape[0], 1, img_rows, img_cols)\n",
    "    input_shape = (1, img_rows, img_cols)\n",
    "else:\n",
    "    x_train = x_train.reshape(x_train.shape[0], img_rows, img_cols, 1)\n",
    "    x_val = x_val.reshape(x_val.shape[0], img_rows, img_cols, 1)\n",
    "    x_test = x_test.reshape(x_test.shape[0], img_rows, img_cols, 1)\n",
    "    input_shape = (img_rows, img_cols, 1)\n",
    "print('Training data shape - ready for processing:', x_train.shape)"
   ]
  },
  {
   "cell_type": "code",
   "execution_count": 104,
   "metadata": {
    "collapsed": false,
    "jupyter": {
     "outputs_hidden": false
    },
    "pycharm": {
     "is_executing": false,
     "name": "#%%\n"
    }
   },
   "outputs": [
    {
     "name": "stdout",
     "output_type": "stream",
     "text": [
      "Input data os of type uint8 with min and max values 6 and 144\n",
      "Now it is normalised float32 with min and max values 0.0235294122248888 and 0.5647059082984924\n"
     ]
    }
   ],
   "source": [
    "import matplotlib.pyplot as plt\n",
    "#TODO what would happen if we won't normalise the input?\n",
    "print(\"Input data os of type {} with min and max values {} and {}\"\n",
    "      .format(x_train.dtype,x_train.min(),x_train.max()))\n",
    "x_train = x_train.astype('float32')\n",
    "x_val = x_val.astype('float32')\n",
    "x_test = x_test.astype('float32')\n",
    "x_train /= 255\n",
    "x_val /= 255\n",
    "x_test /= 255\n",
    "print(\"Now it is normalised {} with min and max values {} and {}\"\n",
    "      .format(x_train.dtype,x_train.min(),x_train.max()))\n",
    "#TODO - If you repeat execution of this cell you will see that it is a bad programming style!\n",
    "#What would you change here?"
   ]
  },
  {
   "cell_type": "code",
   "execution_count": 105,
   "metadata": {
    "collapsed": false,
    "jupyter": {
     "outputs_hidden": false
    },
    "pycharm": {
     "is_executing": false,
     "name": "#%%\n"
    }
   },
   "outputs": [],
   "source": [
    "#Parameters\n",
    "batch_size = 16 #how many examples go through the network at once\n",
    "epochs = 5 #how many times we want to bring the whole dataset through\n",
    "\n",
    "# convert class vectors to binary class matrices\n",
    "y_train_onehot = keras.utils.to_categorical(y_train, number_of_classes)\n",
    "y_val_onehot = keras.utils.to_categorical(y_val, number_of_classes)\n",
    "y_test_onehot = keras.utils.to_categorical(y_test, number_of_classes)"
   ]
  },
  {
   "cell_type": "code",
   "execution_count": 106,
   "metadata": {},
   "outputs": [
    {
     "data": {
      "text/plain": [
       "array([0., 0., 0., 0., 0., 1., 0., 0., 0., 0., 0.], dtype=float32)"
      ]
     },
     "metadata": {},
     "output_type": "display_data"
    },
    {
     "data": {
      "text/plain": [
       "5"
      ]
     },
     "metadata": {},
     "output_type": "display_data"
    }
   ],
   "source": [
    "#One-hot encoding\n",
    "display(y_val_onehot[0])\n",
    "display(y_val[0])"
   ]
  },
  {
   "cell_type": "code",
   "execution_count": 107,
   "metadata": {
    "collapsed": false,
    "jupyter": {
     "outputs_hidden": false
    },
    "pycharm": {
     "is_executing": false,
     "name": "#%%\n"
    }
   },
   "outputs": [],
   "source": [
    "model = Sequential()\n",
    "model.add(Conv2D(32, kernel_size=(3, 3),\n",
    "                 activation='relu',\n",
    "                 input_shape=input_shape))\n",
    "model.add(Conv2D(64, (3, 3), activation='relu'))\n",
    "model.add(MaxPooling2D(pool_size=(2, 2)))\n",
    "model.add(Dropout(0.25))\n",
    "model.add(Flatten())\n",
    "model.add(Dense(128, activation='relu'))\n",
    "model.add(Dropout(0.5))\n",
    "model.add(Dense(number_of_classes, activation='softmax'))"
   ]
  },
  {
   "cell_type": "code",
   "execution_count": 108,
   "metadata": {
    "collapsed": false,
    "jupyter": {
     "outputs_hidden": false
    },
    "pycharm": {
     "is_executing": false,
     "name": "#%%\n"
    }
   },
   "outputs": [],
   "source": [
    "model.compile(loss=keras.losses.categorical_crossentropy,\n",
    "              optimizer=keras.optimizers.Adadelta(),\n",
    "              metrics=['accuracy'])"
   ]
  },
  {
   "cell_type": "code",
   "execution_count": 113,
   "metadata": {
    "collapsed": false,
    "jupyter": {
     "outputs_hidden": false
    },
    "pycharm": {
     "is_executing": false,
     "name": "#%%\n"
    }
   },
   "outputs": [
    {
     "name": "stdout",
     "output_type": "stream",
     "text": [
      "Train on 768 samples, validate on 192 samples\n",
      "Epoch 1/5\n",
      "768/768 [==============================] - 17s 22ms/step - loss: 0.7990 - accuracy: 0.6862 - val_loss: 0.7367 - val_accuracy: 0.6927\n",
      "Epoch 2/5\n",
      "768/768 [==============================] - 17s 22ms/step - loss: 0.7416 - accuracy: 0.7135 - val_loss: 0.6604 - val_accuracy: 0.7188\n",
      "Epoch 3/5\n",
      "768/768 [==============================] - 17s 22ms/step - loss: 0.7060 - accuracy: 0.7201 - val_loss: 0.6372 - val_accuracy: 0.7240\n",
      "Epoch 4/5\n",
      "768/768 [==============================] - 17s 22ms/step - loss: 0.6617 - accuracy: 0.7305 - val_loss: 0.6208 - val_accuracy: 0.7292\n",
      "Epoch 5/5\n",
      "768/768 [==============================] - 17s 22ms/step - loss: 0.6196 - accuracy: 0.7539 - val_loss: 0.6148 - val_accuracy: 0.7344\n",
      "Validation loss: 0.6147722204526266\n",
      "Validation accuracy: 0.734375\n"
     ]
    }
   ],
   "source": [
    "fitting_history = model.fit(x_train, y_train_onehot,\n",
    "          batch_size=batch_size,\n",
    "          epochs=epochs,\n",
    "          verbose=1,\n",
    "          validation_data=(x_val, y_val_onehot))\n",
    "score = model.evaluate(x_val, y_val_onehot, verbose=0)\n",
    "print('Validation loss:', score[0])\n",
    "print('Validation accuracy:', score[1])"
   ]
  },
  {
   "cell_type": "code",
   "execution_count": 125,
   "metadata": {},
   "outputs": [
    {
     "name": "stdout",
     "output_type": "stream",
     "text": [
      "dict_keys(['val_loss', 'val_accuracy', 'loss', 'accuracy'])\n"
     ]
    },
    {
     "data": {
      "application/vnd.jupyter.widget-view+json": {
       "model_id": "ec09a06ee3884b8a85f95caa574e90d1",
       "version_major": 2,
       "version_minor": 0
      },
      "text/plain": [
       "Canvas(toolbar=Toolbar(toolitems=[('Home', 'Reset original view', 'home', 'home'), ('Back', 'Back to previous …"
      ]
     },
     "metadata": {},
     "output_type": "display_data"
    }
   ],
   "source": [
    "print(fitting_history.history.keys())\n",
    "%matplotlib widget\n",
    "plt.plot(fitting_history.history['loss'])\n",
    "plt.show()"
   ]
  },
  {
   "cell_type": "code",
   "execution_count": 112,
   "metadata": {},
   "outputs": [
    {
     "data": {
      "application/vnd.jupyter.widget-view+json": {
       "model_id": "",
       "version_major": 2,
       "version_minor": 0
      },
      "text/plain": [
       "Canvas(toolbar=Toolbar(toolitems=[('Home', 'Reset original view', 'home', 'home'), ('Back', 'Back to previous …"
      ]
     },
     "metadata": {},
     "output_type": "display_data"
    }
   ],
   "source": [
    "#Let's see how our CNN performs on the unseen test set\n",
    "from sklearn.metrics import confusion_matrix\n",
    "\n",
    "y_predict_test = model.predict_classes(x_test)\n",
    "conimg = confusion_matrix(y_test,y_predict_test)\n",
    "plt.imshow(conimg,cmap=plt.cm.Blues)\n",
    "plt.show()"
   ]
  },
  {
   "cell_type": "code",
   "execution_count": null,
   "metadata": {},
   "outputs": [],
   "source": []
  }
 ],
 "metadata": {
  "celltoolbar": "Slideshow",
  "kernelspec": {
   "display_name": "Python 3",
   "language": "python",
   "name": "python3"
  },
  "language_info": {
   "codemirror_mode": {
    "name": "ipython",
    "version": 3
   },
   "file_extension": ".py",
   "mimetype": "text/x-python",
   "name": "python",
   "nbconvert_exporter": "python",
   "pygments_lexer": "ipython3",
   "version": "3.6.9"
  },
  "pycharm": {
   "stem_cell": {
    "cell_type": "raw",
    "metadata": {
     "collapsed": false
    },
    "source": []
   }
  }
 },
 "nbformat": 4,
 "nbformat_minor": 4
}
