{
 "cells": [
  {
   "cell_type": "markdown",
   "metadata": {},
   "source": [
    "\n",
    "## Session 01, task A\n",
    "\n",
    "In this task you will read data from an experiment and try to predict its outcome for unseen measurements.\n",
    "\n"
   ]
  },
  {
   "cell_type": "code",
   "execution_count": null,
   "metadata": {},
   "outputs": [],
   "source": [
    "import pandas as pd\n",
    "import numpy as np\n",
    "\n",
    "from utils.practice_data import generateNiceData\n",
    "\n",
    "\n",
    "#This custom function provides some data as a Pandas dataframe. \n",
    "number_of_samples=100\n",
    "problem = generateNiceData(3,numer_of_samples,noNoise=True)\n",
    "\n",
    "\n",
    "#Given three features A, B and C we want to predict value of Y.\n",
    "#1. Let's start with a multivariate linear regression\n",
    "#2. Then try to provide non-linear features. You can pretend they come \n",
    "#3. Following see how the performance changes with and without noise in data\n",
    "#4. See how performance changes depending on size of the problem\n",
    "#5. Optional EXTRA: use logistic regression to predict value of Y_class\n",
    "problem.describe()"
   ]
  },
  {
   "cell_type": "code",
   "execution_count": null,
   "metadata": {},
   "outputs": [],
   "source": [
    "#Data from pandas series needs to be converted to familiar numpy arrays\n",
    "x_a = problem['A'].values.reshape(-1,1)\n",
    "x_b = problem['B'].values.reshape(-1,1)\n",
    "x_c = problem['C'].values.reshape(-1,1)\n",
    "y = problem['Y'].values.reshape(-1,1)\n",
    "x=np.concatenate((x_a,x_b,x_c),axis=1)"
   ]
  },
  {
   "cell_type": "markdown",
   "metadata": {},
   "source": [
    "### Task 1: \n",
    "Look at the documentation of function [train_test_split()](https://scikit-learn.org/stable/modules/generated/sklearn.model_selection.train_test_split.html), especially the second example. In a new cell below split data set into `x_train`/`y_train` and `x_test`/`y_test` subsets. Remember to import this function from the `sklearn` library.\n"
   ]
  },
  {
   "cell_type": "code",
   "execution_count": null,
   "metadata": {},
   "outputs": [],
   "source": [
    "from sklearn.model_selection import train_test_split\n",
    "x_train, x_test, y_train, y_test = train_test_split(\n",
    "    x, y, test_size=0.2, random_state=0)"
   ]
  },
  {
   "cell_type": "markdown",
   "metadata": {},
   "source": [
    "### Task 2:\n",
    "\n",
    "Use methods `.fit()` and `.predict()` of [Linear Regression class](https://scikit-learn.org/stable/modules/generated/sklearn.linear_model.LinearRegression.html) to train algorithm and calculate results on the test set. \n",
    "\n",
    "Execute following cell to gather the measurements."
   ]
  },
  {
   "cell_type": "code",
   "execution_count": null,
   "metadata": {},
   "outputs": [],
   "source": [
    "from sklearn.linear_model import LinearRegression\n",
    "\n",
    "mv_regression = LinearRegression(normalize=True) #How would it perform without normalisation?\n",
    "\n",
    "# Fit regression model to feature data x_train and target y_train\n",
    "#mv_regression.fit(x_train,y_train)\n",
    "\n",
    "# Fill vector y_predict with estimations of target y_predict from data x_test\n",
    "#y_predict = mv_regression.predict(x_test)\n",
    "\n",
    "print(\"Intercept {}\".format(mv_regression.intercept_))\n",
    "print(\"Slope {}\".format(mv_regression.coef_))"
   ]
  },
  {
   "cell_type": "code",
   "execution_count": null,
   "metadata": {},
   "outputs": [],
   "source": [
    "from sklearn import metrics\n",
    "from sklearn.metrics import mean_squared_error, r2_score\n",
    "\n",
    "results = pd.DataFrame({'True value': y_test.flatten(), 'Predicted': y_predict.flatten()})\n",
    "print('Mean Absolute Error: {}'.format(metrics.mean_absolute_error(y_test, y_predict))  )\n",
    "print('Mean Squared Error: {}'.format(metrics.mean_squared_error(y_test, y_predict)) )\n",
    "print('Root Mean Squared Error: {}'.format(np.sqrt(metrics.mean_squared_error(y_test, y_predict))))"
   ]
  },
  {
   "cell_type": "markdown",
   "metadata": {},
   "source": [
    "### Task 3: \n",
    "\n",
    "Given your extensive knowledge of the **property Y**, you suspect that measurement B and C have a non-linear relation to Y. \n",
    "\n",
    "Modify the following cell to use function [np.power()](https://docs.scipy.org/doc/numpy/reference/generated/numpy.power.html) and [np.sin()](https://docs.scipy.org/doc/numpy/reference/generated/numpy.sin.html?highlight=sin#numpy.sin) to create additional non-linear features z_b and z_c. \n",
    "\n",
    "*Hint:* try different powers of `x_b`, from 2 to 8 to see when the fit is the closest. \n",
    "\n",
    "*Hint:* Apply sine function firectly to `x_c: z_c = np.sin(x_c)`"
   ]
  },
  {
   "cell_type": "code",
   "execution_count": null,
   "metadata": {},
   "outputs": [],
   "source": [
    "z_b = x_b\n",
    "z_c = x_c \n",
    "\n",
    "z_b = np.power(x_b,4)\n",
    "z_c = np.sin(x_c)\n",
    "\n",
    "#You can either add z-features to your existing measurements, or replace x_b and x_c with the non-linear features.\n",
    "x=np.concatenate((x_a,x_b,x_c,z_b,z_c),axis=1)\n",
    "x=np.concatenate((x_a,z_b,z_c),axis=1)"
   ]
  },
  {
   "cell_type": "markdown",
   "metadata": {},
   "source": [
    "### Task 4:\n",
    "\n",
    "Copy the code from the cells above to try linear regression with non-linear features"
   ]
  },
  {
   "cell_type": "markdown",
   "metadata": {},
   "source": [
    "### Task 5: \n",
    "Display the results on the test dataset by executing the following cell"
   ]
  },
  {
   "cell_type": "code",
   "execution_count": null,
   "metadata": {},
   "outputs": [],
   "source": [
    "import matplotlib.pyplot as plt\n",
    "%matplotlib inline\n",
    "plt.plot(y_test,'x')\n",
    "plt.plot((y_predict),'o')\n",
    "plt.show()"
   ]
  },
  {
   "cell_type": "markdown",
   "metadata": {},
   "source": [
    "### ADVANCED Task:\n",
    "\n",
    "Gather the code above in the loop and create a graph showing how Root Mean Squared Error changes with the size of the noisy dataset.\n"
   ]
  },
  {
   "cell_type": "code",
   "execution_count": null,
   "metadata": {},
   "outputs": [],
   "source": [
    "for number_of_samples in range (20, 500, 50):\n",
    "    problem = generateNiceData(3,number_of_samples,noNoise=True)\n",
    "    #put your code here"
   ]
  }
 ],
 "metadata": {
  "kernelspec": {
   "display_name": "Python 3",
   "language": "python",
   "name": "python3"
  },
  "language_info": {
   "codemirror_mode": {
    "name": "ipython",
    "version": 3
   },
   "file_extension": ".py",
   "mimetype": "text/x-python",
   "name": "python",
   "nbconvert_exporter": "python",
   "pygments_lexer": "ipython3",
   "version": "3.7.4"
  }
 },
 "nbformat": 4,
 "nbformat_minor": 4
}
