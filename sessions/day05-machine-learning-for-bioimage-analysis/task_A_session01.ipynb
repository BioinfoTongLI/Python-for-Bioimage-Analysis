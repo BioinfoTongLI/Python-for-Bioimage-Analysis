{
 "cells": [
  {
   "cell_type": "markdown",
   "metadata": {},
   "source": [
    "# Session 01, Task A\n",
    "\n",
    "In this task you will read in some toy data from an experiment and, using linear regression, try to predict the outcome for an 'unseen' or unknown measurement."
   ]
  },
  {
   "cell_type": "code",
   "execution_count": 2,
   "metadata": {},
   "outputs": [],
   "source": [
    "import pandas as pd  # We will use pandas DataFrames for storing features\n",
    "import numpy as np  # We will use NumPy arrays to store image data\n",
    "\n",
    "# Utils is a custom module written to simplify these tutorials\n",
    "# You do not need to understand these codes for this practical\n",
    "from utils.practice_data import generateNiceData\n",
    "\n",
    "# Generate a pandas Dataframe with some toy results\n",
    "# Each row (a cell) has four feature: A, B, C, Y\n",
    "# These could, for example, be length, intensity, etc.\n",
    "number_of_samples=100\n",
    "problem = generateNiceData(3,number_of_samples,noNoise=True)\n",
    "problem.describe()"
   ]
  },
  {
   "cell_type": "markdown",
   "metadata": {},
   "source": [
    "## The Task\n",
    "\n",
    "In one experiment we were able to measure four features: A, B, C, and Y. However, in our next experiment we could only measure A, B and C.\n",
    "\n",
    "Given these three features (A, B and C) we want to predict the value of feature Y.\n",
    "\n",
    "1. Let's start with a multivariate linear regression (assuming the relationship between our variables is simple).\n",
    "2. Advanced: Then try to provide non-linear features (i.e. assuming the relationship between our variables is complex)\n",
    "3. Advanced: Following see how the performance changes with and without noise in data\n",
    "4. Advanced: See how performance changes depending on size of the problem"
   ]
  },
  {
   "cell_type": "code",
   "execution_count": 4,
   "metadata": {},
   "outputs": [
    {
     "ename": "NameError",
     "evalue": "name 'problem' is not defined",
     "output_type": "error",
     "traceback": [
      "\u001b[0;31m---------------------------------------------------------------------------\u001b[0m",
      "\u001b[0;31mNameError\u001b[0m                                 Traceback (most recent call last)",
      "\u001b[0;32m<ipython-input-4-de7a2c7a0238>\u001b[0m in \u001b[0;36m<module>\u001b[0;34m\u001b[0m\n\u001b[1;32m      1\u001b[0m \u001b[0;31m#Data from pandas series needs to be converted to familiar numpy arrays\u001b[0m\u001b[0;34m\u001b[0m\u001b[0;34m\u001b[0m\u001b[0;34m\u001b[0m\u001b[0m\n\u001b[0;32m----> 2\u001b[0;31m \u001b[0mx\u001b[0m \u001b[0;34m=\u001b[0m \u001b[0mproblem\u001b[0m\u001b[0;34m.\u001b[0m\u001b[0mloc\u001b[0m\u001b[0;34m[\u001b[0m\u001b[0;34m:\u001b[0m\u001b[0;34m,\u001b[0m\u001b[0;34m[\u001b[0m\u001b[0;34m'A'\u001b[0m\u001b[0;34m,\u001b[0m\u001b[0;34m'B'\u001b[0m\u001b[0;34m,\u001b[0m\u001b[0;34m'C'\u001b[0m\u001b[0;34m]\u001b[0m\u001b[0;34m]\u001b[0m\u001b[0;34m.\u001b[0m\u001b[0mvalues\u001b[0m\u001b[0;34m\u001b[0m\u001b[0;34m\u001b[0m\u001b[0m\n\u001b[0m\u001b[1;32m      3\u001b[0m \u001b[0my\u001b[0m \u001b[0;34m=\u001b[0m \u001b[0mproblem\u001b[0m\u001b[0;34m.\u001b[0m\u001b[0mloc\u001b[0m\u001b[0;34m[\u001b[0m\u001b[0;34m:\u001b[0m\u001b[0;34m,\u001b[0m\u001b[0;34m'Y'\u001b[0m\u001b[0;34m]\u001b[0m\u001b[0;34m.\u001b[0m\u001b[0mvalues\u001b[0m\u001b[0;34m\u001b[0m\u001b[0;34m\u001b[0m\u001b[0m\n\u001b[1;32m      4\u001b[0m \u001b[0;34m\u001b[0m\u001b[0m\n\u001b[1;32m      5\u001b[0m \u001b[0mprint\u001b[0m\u001b[0;34m(\u001b[0m\u001b[0mx\u001b[0m\u001b[0;34m.\u001b[0m\u001b[0mshape\u001b[0m\u001b[0;34m,\u001b[0m \u001b[0my\u001b[0m\u001b[0;34m.\u001b[0m\u001b[0mshape\u001b[0m\u001b[0;34m)\u001b[0m  \u001b[0;31m# check our array shapes make sense\u001b[0m\u001b[0;34m\u001b[0m\u001b[0;34m\u001b[0m\u001b[0m\n",
      "\u001b[0;31mNameError\u001b[0m: name 'problem' is not defined"
     ]
    }
   ],
   "source": [
    "#Data from pandas series needs to be converted to familiar numpy arrays\n",
    "x = problem.loc[:,['A','B','C']].values\n",
    "y = problem.loc[:,'Y'].values\n",
    "\n",
    "print(x.shape, y.shape)  # check our array shapes make sense"
   ]
  },
  {
   "cell_type": "markdown",
   "metadata": {},
   "source": [
    "### Task 1: \n",
    "Look at the documentation of function [train_test_split()](https://scikit-learn.org/stable/modules/generated/sklearn.model_selection.train_test_split.html), especially the second example. In a new cell below split data set into `x_train`/`y_train` and `x_test`/`y_test` subsets. Remember to import this function from the `sklearn` library.\n"
   ]
  },
  {
   "cell_type": "code",
   "execution_count": null,
   "metadata": {},
   "outputs": [],
   "source": [
    "from sklearn.model_selection import train_test_split\n",
    "x_train, x_test, y_train, y_test = train_test_split(\n",
    "    x, y, test_size=0.2, random_state=0)"
   ]
  },
  {
   "cell_type": "markdown",
   "metadata": {},
   "source": [
    "### Task 2:\n",
    "\n",
    "Use methods `.fit()` and `.predict()` of [Linear Regression class](https://scikit-learn.org/stable/modules/generated/sklearn.linear_model.LinearRegression.html) to train algorithm and calculate results on the test set. \n",
    "\n",
    "Execute following cell to gather the measurements."
   ]
  },
  {
   "cell_type": "code",
   "execution_count": null,
   "metadata": {},
   "outputs": [],
   "source": [
    "from sklearn.linear_model import LinearRegression\n",
    "\n",
    "mv_regression = LinearRegression(normalize=True) #How would it perform without normalisation?\n",
    "\n",
    "# Fit regression model to feature data x_train and target y_train\n",
    "#mv_regression.fit(x_train,y_train)\n",
    "\n",
    "# Fill vector y_predict with estimations of target y_predict from data x_test\n",
    "#y_predict = mv_regression.predict(x_test)\n",
    "\n",
    "print(\"Intercept {}\".format(mv_regression.intercept_))\n",
    "print(\"Slope {}\".format(mv_regression.coef_))"
   ]
  },
  {
   "cell_type": "code",
   "execution_count": null,
   "metadata": {},
   "outputs": [],
   "source": [
    "from sklearn import metrics\n",
    "from sklearn.metrics import mean_squared_error, r2_score\n",
    "\n",
    "results = pd.DataFrame({'True value': y_test.flatten(), 'Predicted': y_predict.flatten()})\n",
    "print('Mean Absolute Error: {}'.format(metrics.mean_absolute_error(y_test, y_predict))  )\n",
    "print('Mean Squared Error: {}'.format(metrics.mean_squared_error(y_test, y_predict)) )\n",
    "print('Root Mean Squared Error: {}'.format(np.sqrt(metrics.mean_squared_error(y_test, y_predict))))"
   ]
  },
  {
   "cell_type": "markdown",
   "metadata": {},
   "source": [
    "### Task 3: \n",
    "\n",
    "Given your extensive knowledge of the **property Y**, you suspect that measurement B and C have a non-linear relation to Y. \n",
    "\n",
    "Modify the following cell to use function [np.power()](https://docs.scipy.org/doc/numpy/reference/generated/numpy.power.html) and [np.sin()](https://docs.scipy.org/doc/numpy/reference/generated/numpy.sin.html?highlight=sin#numpy.sin) to create additional non-linear features z_b and z_c. \n",
    "\n",
    "*Hint:* try different powers of `x_b`, from 2 to 8 to see when the fit is the closest. \n",
    "\n",
    "*Hint:* Apply sine function firectly to `x_c: z_c = np.sin(x_c)`"
   ]
  },
  {
   "cell_type": "code",
   "execution_count": null,
   "metadata": {},
   "outputs": [],
   "source": [
    "z_b = x_b\n",
    "z_c = x_c \n",
    "\n",
    "z_b = np.power(x_b,4)\n",
    "z_c = np.sin(x_c)\n",
    "\n",
    "#You can either add z-features to your existing measurements, or replace x_b and x_c with the non-linear features.\n",
    "x=np.concatenate((x_a,x_b,x_c,z_b,z_c),axis=1)\n",
    "x=np.concatenate((x_a,z_b,z_c),axis=1)"
   ]
  },
  {
   "cell_type": "markdown",
   "metadata": {},
   "source": [
    "### Task 4:\n",
    "\n",
    "Copy the code from the cells above to try linear regression with non-linear features"
   ]
  },
  {
   "cell_type": "markdown",
   "metadata": {},
   "source": [
    "### Task 5: \n",
    "Display the results on the test dataset by executing the following cell"
   ]
  },
  {
   "cell_type": "code",
   "execution_count": null,
   "metadata": {},
   "outputs": [],
   "source": [
    "import matplotlib.pyplot as plt\n",
    "%matplotlib inline\n",
    "plt.plot(y_test,'x')\n",
    "plt.plot((y_predict),'o')\n",
    "plt.show()"
   ]
  },
  {
   "cell_type": "markdown",
   "metadata": {},
   "source": [
    "### ADVANCED Task:\n",
    "\n",
    "Gather the code above in the loop and create a graph showing how Root Mean Squared Error changes with the size of the noisy dataset.\n"
   ]
  },
  {
   "cell_type": "code",
   "execution_count": null,
   "metadata": {},
   "outputs": [],
   "source": [
    "for number_of_samples in range (20, 500, 50):\n",
    "    problem = generateNiceData(3,number_of_samples,noNoise=True)\n",
    "    #put your code here"
   ]
  }
 ],
 "metadata": {
  "kernelspec": {
   "display_name": "Python 3",
   "language": "python",
   "name": "python3"
  },
  "language_info": {
   "codemirror_mode": {
    "name": "ipython",
    "version": 3
   },
   "file_extension": ".py",
   "mimetype": "text/x-python",
   "name": "python",
   "nbconvert_exporter": "python",
   "pygments_lexer": "ipython3",
   "version": "3.7.4"
  }
 },
 "nbformat": 4,
 "nbformat_minor": 4
}
