{
 "cells": [
  {
   "cell_type": "markdown",
   "metadata": {},
   "source": [
    "# Session 01, Task A\n",
    "\n",
    "In this task you will read in some toy data from an experiment and, using linear regression, try to predict the outcome for an 'unseen' or unknown measurement."
   ]
  },
  {
   "cell_type": "code",
   "execution_count": null,
   "metadata": {},
   "outputs": [],
   "source": [
    "import pandas as pd  # We will use pandas DataFrames for storing features\n",
    "import numpy as np  # We will use NumPy arrays to store image data\n",
    "\n",
    "# Utils is a custom module written to simplify these tutorials\n",
    "# You do not need to understand these codes for this practical\n",
    "from utils.practice_data import generateNiceData\n",
    "\n",
    "# Generate a pandas Dataframe with some toy results\n",
    "# Each row (a cell) has four feature: A, B, C, Y\n",
    "# These could, for example, be length, intensity, etc.\n",
    "number_of_samples=100\n",
    "problem = generateNiceData(3,number_of_samples,noNoise=True)\n",
    "problem.describe()"
   ]
  },
  {
   "cell_type": "markdown",
   "metadata": {},
   "source": [
    "## The Task\n",
    "\n",
    "In one experiment we were able to measure four features: A, B, C, and Y. However, in our next experiment we could only measure A, B and C.\n",
    "\n",
    "Given these three features (A, B and C) we want to predict the value of feature Y.\n",
    "\n",
    "1. Let's start with a multivariate linear regression (assuming the relationship between our variables is simple).\n",
    "2. Advanced: Then try to provide non-linear features (i.e. assuming the relationship between our variables is complex)\n",
    "3. Advanced: Following see how the performance changes with and without noise in data\n",
    "4. Advanced: See how performance changes depending on size of the problem"
   ]
  },
  {
   "cell_type": "code",
   "execution_count": null,
   "metadata": {},
   "outputs": [],
   "source": [
    "#Data from pandas series needs to be converted to familiar numpy arrays\n",
    "x = problem.loc[:,['A','B','C']].values\n",
    "y = problem.loc[:,'Y'].values\n",
    "\n",
    "print(x.shape, y.shape)  # check our array shapes make sense"
   ]
  },
  {
   "cell_type": "markdown",
   "metadata": {},
   "source": [
    "## Task 1: \n",
    "\n",
    "Read the documentation for function [sklearn.model_selection.train_test_split()](https://scikit-learn.org/stable/modules/generated/sklearn.model_selection.train_test_split.html), start with the second example provided.\n",
    "\n",
    "In the cell below, complete the function call (by replacing all the `____`s) to split our dataset into `x_train`/`y_train` (training) and `x_test`/`y_test` (testing) subsets."
   ]
  },
  {
   "cell_type": "code",
   "execution_count": null,
   "metadata": {},
   "outputs": [],
   "source": [
    "from sklearn import model_selection\n",
    "\n",
    "____, ____, ____, ____  = model_selection.train_test_split(____, ____, test_size=0.2, random_state=0)\n",
    "\n",
    "### REMOVE THESE LINES ###\n",
    "x_train, x_test, y_train, y_test = model_selection.train_test_split(x, y, test_size=0.2, random_state=0)\n",
    "### REMOVE THESE LINES ###"
   ]
  },
  {
   "cell_type": "markdown",
   "metadata": {},
   "source": [
    "## Task 2:\n",
    "\n",
    " Look at the [Linear Regression class](https://scikit-learn.org/stable/modules/generated/sklearn.linear_model.LinearRegression.html) documentation and examples. In the code below, we have initialised a Linear Regression model. Add the following lines of code:\n",
    "1. A line that 'fit's a model to our training data,\n",
    "2. A line that 'predict's the value of Y for our test data.\n",
    "\n",
    "What do the intercept and slope represent?"
   ]
  },
  {
   "cell_type": "code",
   "execution_count": null,
   "metadata": {},
   "outputs": [],
   "source": [
    "from sklearn import linear_model  # this submodule contains the 'LinearRegression' function\n",
    "\n",
    "mv_regression = linear_model.LinearRegression(normalize=True) #How would it perform without normalisation?\n",
    "\n",
    "# Fit regression model to feature data x_train and target y_train\n",
    "# ADD CODE HERE:\n",
    "### REMOVE THESE LINES ###\n",
    "mv_regression.fit(x_train,y_train)\n",
    "### REMOVE THESE LINES ###\n",
    "\n",
    "# Fill vector y_predict with estimations of target y_predict from data x_test\n",
    "# ADD CODE HERE:\n",
    "### REMOVE THESE LINES ###\n",
    "y_predict = mv_regression.predict(x_test)\n",
    "### REMOVE THESE LINES ###\n",
    "\n",
    "print(\"Intercept {}\".format(mv_regression.intercept_))\n",
    "print(\"Slope {}\".format(mv_regression.coef_))"
   ]
  },
  {
   "cell_type": "markdown",
   "metadata": {},
   "source": [
    "In machine learning we want to get an idea of how well our models fits our data (by comparing out prediction to our known testing data values), there are a variety of error metrics that can be used for this. Run the cell below to compare the 'True' or known values and the predicted values as well as three common error metrics. How do you interpret these numbers?"
   ]
  },
  {
   "cell_type": "code",
   "execution_count": null,
   "metadata": {},
   "outputs": [],
   "source": [
    "from sklearn import metrics\n",
    "from sklearn.metrics import mean_squared_error, r2_score\n",
    "\n",
    "results = pd.DataFrame({'True value': y_test.flatten(), 'Predicted': y_predict.flatten()})\n",
    "print('Mean Absolute Error: {}'.format(metrics.mean_absolute_error(y_test, y_predict))  )\n",
    "print('Mean Squared Error: {}'.format(metrics.mean_squared_error(y_test, y_predict)) )\n",
    "print('Root Mean Squared Error: {}'.format(np.sqrt(metrics.mean_squared_error(y_test, y_predict))))"
   ]
  },
  {
   "cell_type": "markdown",
   "metadata": {},
   "source": [
    "## Task 3: \n",
    "\n",
    "Given your extensive knowledge of the **property Y**, you suspect that measurement B and C have a non-linear relation to Y. \n",
    "\n",
    "Modify the following cell to use function [np.power()](https://docs.scipy.org/doc/numpy/reference/generated/numpy.power.html) and [np.sin()](https://docs.scipy.org/doc/numpy/reference/generated/numpy.sin.html?highlight=sin#numpy.sin) to create additional non-linear features z_b and z_c. \n",
    "\n",
    "*Hint:* try different powers of `x_b`, from 2 to 8 to see when the fit is the closest. \n",
    "\n",
    "*Hint:* Apply sine function firectly to `x_c: z_c = np.sin(x_c)`"
   ]
  },
  {
   "cell_type": "code",
   "execution_count": null,
   "metadata": {},
   "outputs": [],
   "source": [
    "z_b = x_b\n",
    "z_c = x_c \n",
    "\n",
    "z_b = np.power(x_b,4)\n",
    "z_c = np.sin(x_c)\n",
    "\n",
    "#You can either add z-features to your existing measurements, or replace x_b and x_c with the non-linear features.\n",
    "x=np.concatenate((x_a,x_b,x_c,z_b,z_c),axis=1)\n",
    "x=np.concatenate((x_a,z_b,z_c),axis=1)"
   ]
  },
  {
   "cell_type": "markdown",
   "metadata": {},
   "source": [
    "## Task 4:\n",
    "\n",
    "Copy the code from the cells above to try linear regression with non-linear features"
   ]
  },
  {
   "cell_type": "markdown",
   "metadata": {},
   "source": [
    "## Task 5: \n",
    "Display the results on the test dataset by executing the following cell"
   ]
  },
  {
   "cell_type": "code",
   "execution_count": null,
   "metadata": {},
   "outputs": [],
   "source": [
    "import matplotlib.pyplot as plt\n",
    "%matplotlib inline\n",
    "plt.plot(y_test,'x')\n",
    "plt.plot((y_predict),'o')\n",
    "plt.show()"
   ]
  },
  {
   "cell_type": "markdown",
   "metadata": {},
   "source": [
    "### ADVANCED Task:\n",
    "\n",
    "Gather the code above in the loop and create a graph showing how Root Mean Squared Error changes with the size of the noisy dataset.\n"
   ]
  },
  {
   "cell_type": "code",
   "execution_count": null,
   "metadata": {},
   "outputs": [],
   "source": [
    "for number_of_samples in range (20, 500, 50):\n",
    "    problem = generateNiceData(3,number_of_samples,noNoise=True)\n",
    "    #put your code here"
   ]
  }
 ],
 "metadata": {
  "kernelspec": {
   "display_name": "Python 3",
   "language": "python",
   "name": "python3"
  },
  "language_info": {
   "codemirror_mode": {
    "name": "ipython",
    "version": 3
   },
   "file_extension": ".py",
   "mimetype": "text/x-python",
   "name": "python",
   "nbconvert_exporter": "python",
   "pygments_lexer": "ipython3",
   "version": "3.7.4"
  }
 },
 "nbformat": 4,
 "nbformat_minor": 4
}
