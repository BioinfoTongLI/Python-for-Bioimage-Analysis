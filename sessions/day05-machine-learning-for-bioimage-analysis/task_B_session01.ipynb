{
 "cells": [
  {
   "cell_type": "markdown",
   "metadata": {},
   "source": [
    "# Machine Learning - Task B\n",
    "\n",
    "**Part of IAFIG-RMS *Python for Bioimage Analysis* Course.**\n",
    "\n",
    "*Mikolaj Kundegorski*\n",
    "\n",
    "2019-12-13\n",
    "\n",
    "In this task you will use regression to classify toy examples (shaped blobs) as different 'classes' or categories."
   ]
  },
  {
   "cell_type": "markdown",
   "metadata": {},
   "source": [
    "## The Task\n",
    "\n",
    "In an experiment we were able to image lots of different types of cells. These cells are sparse so we were easily able to segment them, find their bounding box and create a database of images each containing a single cell. We then convinced a PhD student to go through and manually categorise our cells. We want to use regression to be able to automatically categorise new, unlabelled cells from future experiments.\n",
    "\n",
    "To do this, we will:\n",
    "1. Use a logistic (categorical) regression.\n",
    "2. Use training data to fit the regression and test data to check how well our model works."
   ]
  },
  {
   "cell_type": "markdown",
   "metadata": {},
   "source": [
    "## Task B.1\n",
    "\n",
    "Run the following two cells to set-up and visualise the data. Feel free to change parameters as you explore the system."
   ]
  },
  {
   "cell_type": "code",
   "execution_count": null,
   "metadata": {},
   "outputs": [],
   "source": [
    "# Utils is a custom module written to simplify these tutorials\n",
    "# You do not need to understand these codes for this practical\n",
    "from utils.practice_data import generateBlobsData  # this loads data into a DataFrame\n",
    "from utils.practice_data import showBlobs  # this allows quick visualisation of the data\n",
    "\n",
    "# Generate a pandas DataFrame of data\n",
    "# with a column 'class', i.e. the categry a cell belongs to,\n",
    "# and a column 'raw_data' which hold the NumPy array/image\n",
    "imageDir = './assets/simple_blobs/'\n",
    "number_of_samples = 1200\n",
    "image_size = 64  # in pixels\n",
    "number_of_classes = 11 #2-6 - normal blobs. 7-11 more difficult\n",
    "problem = generateBlobsData(imageDir, number_of_classes, number_of_samples, image_size, noiseSize=20)"
   ]
  },
  {
   "cell_type": "code",
   "execution_count": null,
   "metadata": {},
   "outputs": [],
   "source": [
    "#Visualise the data\n",
    "display(problem.loc[:,'class'].describe())  # Note the number of unqiue classes\n",
    "showBlobs(problem.sample(20))  # plots the images with their class above."
   ]
  },
  {
   "cell_type": "markdown",
   "metadata": {},
   "source": [
    "## Task B.2\n",
    "\n",
    "Look at the documentation for [sklearn.linear_model.LogisticRegression()](https://scikit-learn.org/stable/modules/generated/sklearn.linear_model.LogisticRegression.html) and, specifically, this example: https://scikit-learn.org/stable/auto_examples/linear_model/plot_iris_logistic.html#sphx-glr-auto-examples-linear-model-plot-iris-logistic-py.\n",
    "\n",
    "The following cell needs to 'wrangle' our data into training and test data and then run Logistic Regression to create a simple model with which we can predict the classes of our test data and calculate a 'score', here the mean accuracy, of our model.\n",
    "\n",
    "Complete the following code cell by filling in all the `____`s with appropriate methods/functions and parameters."
   ]
  },
  {
   "cell_type": "code",
   "execution_count": null,
   "metadata": {},
   "outputs": [],
   "source": [
    "%matplotlib widget\n",
    "import numpy as np\n",
    "import matplotlib.pyplot as plt\n",
    "from sklearn import linear_model\n",
    "from sklearn import model_selection\n",
    "\n",
    "x=np.stack(problem['raw_data'])\n",
    "x=x.reshape(x.shape[0],-1) # x as as vector\n",
    "y=problem['class'].values.reshape(-1,1).flatten().astype(int)\n",
    "x_train, x_test, y_train, y_test = model_selection.train_test_split(x, y, test_size=0.2, random_state=0)\n",
    "\n",
    "logreg = linear_model.LogisticRegression(random_state=0).fit(x_train, y_train)\n",
    "y_predict = logreg.predict(x_test)\n",
    "test_set_score = logreg.score(x_test, y_test)\n",
    "train_set_score = logreg.score(x_train, y_train)\n",
    "print(\"Score on training set: {} and on testing: {} \".format(train_set_score,test_set_score))"
   ]
  },
  {
   "cell_type": "markdown",
   "metadata": {},
   "source": [
    "Run the following cell to display the results (on your test data) of our model. Does the model look good?"
   ]
  },
  {
   "cell_type": "code",
   "execution_count": null,
   "metadata": {},
   "outputs": [],
   "source": [
    "f, axis = plt.subplots(1,1)  # create a figure with a single axis (subplot)\n",
    "\n",
    "axis.plot(y_test, y_test, '-')  # plot true vs true, i.e. the ideal case\n",
    "axis.scatter(y_test,y_predict)  # plot a scatter of the true value against the prediction value\n",
    "axis.set_ylabel('Predicted Value')\n",
    "axis.set_xlabel('True Value')\n",
    "\n",
    "plt.show()"
   ]
  }
 ],
 "metadata": {
  "kernelspec": {
   "display_name": "Python 3",
   "language": "python",
   "name": "python3"
  },
  "language_info": {
   "codemirror_mode": {
    "name": "ipython",
    "version": 3
   },
   "file_extension": ".py",
   "mimetype": "text/x-python",
   "name": "python",
   "nbconvert_exporter": "python",
   "pygments_lexer": "ipython3",
   "version": "3.7.4"
  }
 },
 "nbformat": 4,
 "nbformat_minor": 4
}
